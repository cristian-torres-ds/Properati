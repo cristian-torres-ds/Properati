{
 "cells": [
  {
   "cell_type": "markdown",
   "id": "426f0231",
   "metadata": {
    "tags": []
   },
   "source": [
    "# Desafío 2: Hacer un modelo de regresión para predecir el precio por metro cuadrado.\n",
    "### Dataset Properati\n",
    "### Cristian Gabriel Torres"
   ]
  },
  {
   "cell_type": "markdown",
   "id": "b401d99e",
   "metadata": {},
   "source": [
    "Antes de comenzar a aplicar los modelos de regresión vamos a aplicar algunos cambios al dataset obtenido de la primer parte del trabajo, siguiendo sugerencias de la devolución, y dejarlo lo mejor preparado posible."
   ]
  },
  {
   "cell_type": "markdown",
   "id": "3d2feeb8",
   "metadata": {},
   "source": [
    " #### Importamos librerias necesarias para el trabajo\n",
    " ---"
   ]
  },
  {
   "cell_type": "code",
   "execution_count": 1,
   "id": "e8811caf-991b-428f-9132-0f267d1f8709",
   "metadata": {},
   "outputs": [],
   "source": [
    "import pandas as pd\n",
    "import numpy as np\n",
    "import seaborn as sns\n",
    "import matplotlib.pyplot as plt\n",
    "%matplotlib inline\n",
    "import geopandas as gpd\n",
    "from shapely.geometry import LineString\n",
    "import shapely.wkt\n",
    "from sklearn import linear_model\n",
    "from sklearn.model_selection import train_test_split\n",
    "from sklearn.preprocessing import StandardScaler\n",
    "from sklearn.model_selection import cross_val_score, KFold"
   ]
  },
  {
   "cell_type": "code",
   "execution_count": 2,
   "id": "7cc6001f-5ed7-48eb-9c50-fe832d3b045b",
   "metadata": {
    "tags": []
   },
   "outputs": [],
   "source": [
    "import warnings\n",
    "warnings.filterwarnings('ignore')"
   ]
  },
  {
   "cell_type": "markdown",
   "id": "d56d97d1",
   "metadata": {},
   "source": [
    "### Inspeccion del dataset\n",
    "---"
   ]
  },
  {
   "cell_type": "markdown",
   "id": "44d4eec2",
   "metadata": {},
   "source": [
    "Volvemos a revisar el dataset luego de las tranformaciones"
   ]
  },
  {
   "cell_type": "code",
   "execution_count": 3,
   "id": "b2469162",
   "metadata": {},
   "outputs": [
    {
     "data": {
      "text/html": [
       "<div>\n",
       "<style scoped>\n",
       "    .dataframe tbody tr th:only-of-type {\n",
       "        vertical-align: middle;\n",
       "    }\n",
       "\n",
       "    .dataframe tbody tr th {\n",
       "        vertical-align: top;\n",
       "    }\n",
       "\n",
       "    .dataframe thead th {\n",
       "        text-align: right;\n",
       "    }\n",
       "</style>\n",
       "<table border=\"1\" class=\"dataframe\">\n",
       "  <thead>\n",
       "    <tr style=\"text-align: right;\">\n",
       "      <th></th>\n",
       "      <th>index</th>\n",
       "      <th>property_type</th>\n",
       "      <th>place_name</th>\n",
       "      <th>place_with_parent_names</th>\n",
       "      <th>state_name</th>\n",
       "      <th>lat</th>\n",
       "      <th>lon</th>\n",
       "      <th>price</th>\n",
       "      <th>surface_total_in_m2</th>\n",
       "      <th>surface_covered_in_m2</th>\n",
       "      <th>...</th>\n",
       "      <th>rooms</th>\n",
       "      <th>expenses</th>\n",
       "      <th>properati_url</th>\n",
       "      <th>description</th>\n",
       "      <th>title</th>\n",
       "      <th>ciudad</th>\n",
       "      <th>Tiene_Patio</th>\n",
       "      <th>Es_Emprendimiento</th>\n",
       "      <th>Cantidad_Baños</th>\n",
       "      <th>price_usd_per_m2_aprox</th>\n",
       "    </tr>\n",
       "  </thead>\n",
       "  <tbody>\n",
       "    <tr>\n",
       "      <th>1</th>\n",
       "      <td>6</td>\n",
       "      <td>PH</td>\n",
       "      <td>Munro</td>\n",
       "      <td>|Argentina|Bs.As. G.B.A. Zona Norte|Vicente Ló...</td>\n",
       "      <td>Bs.As. G.B.A. Zona Norte</td>\n",
       "      <td>-34.532957</td>\n",
       "      <td>-58.521782</td>\n",
       "      <td>130000.0</td>\n",
       "      <td>106.0</td>\n",
       "      <td>78.0</td>\n",
       "      <td>...</td>\n",
       "      <td>1.0</td>\n",
       "      <td>0.0</td>\n",
       "      <td>http://www.properati.com.ar/15bor_venta_ph_mun...</td>\n",
       "      <td>MUY BUEN PH AL FRENTE CON ENTRADA INDEPENDIENT...</td>\n",
       "      <td>MUY BUEN PH AL FRENTE DOS DORMITORIOS , PATIO,...</td>\n",
       "      <td>Vicente López</td>\n",
       "      <td>1</td>\n",
       "      <td>0</td>\n",
       "      <td>1</td>\n",
       "      <td>1226.415094</td>\n",
       "    </tr>\n",
       "    <tr>\n",
       "      <th>2</th>\n",
       "      <td>7</td>\n",
       "      <td>apartment</td>\n",
       "      <td>Belgrano</td>\n",
       "      <td>|Argentina|Capital Federal|Belgrano|</td>\n",
       "      <td>Capital Federal</td>\n",
       "      <td>-34.559873</td>\n",
       "      <td>-58.443362</td>\n",
       "      <td>138000.0</td>\n",
       "      <td>45.0</td>\n",
       "      <td>40.0</td>\n",
       "      <td>...</td>\n",
       "      <td>1.0</td>\n",
       "      <td>0.0</td>\n",
       "      <td>http://www.properati.com.ar/15bot_venta_depart...</td>\n",
       "      <td>EXCELENTE MONOAMBIENTE A ESTRENAR AMPLIO SUPER...</td>\n",
       "      <td>JOSE HERNANDEZ 1400 MONOAMBIENTE  ESTRENAR CAT...</td>\n",
       "      <td>Belgrano</td>\n",
       "      <td>0</td>\n",
       "      <td>0</td>\n",
       "      <td>1</td>\n",
       "      <td>3066.666667</td>\n",
       "    </tr>\n",
       "    <tr>\n",
       "      <th>3</th>\n",
       "      <td>8</td>\n",
       "      <td>apartment</td>\n",
       "      <td>Belgrano</td>\n",
       "      <td>|Argentina|Capital Federal|Belgrano|</td>\n",
       "      <td>Capital Federal</td>\n",
       "      <td>-34.559873</td>\n",
       "      <td>-58.443362</td>\n",
       "      <td>195000.0</td>\n",
       "      <td>65.0</td>\n",
       "      <td>60.0</td>\n",
       "      <td>...</td>\n",
       "      <td>1.0</td>\n",
       "      <td>0.0</td>\n",
       "      <td>http://www.properati.com.ar/15bou_venta_depart...</td>\n",
       "      <td>EXCELENTE DOS AMBIENTES  ESTRENAR AMPLIO SUPER...</td>\n",
       "      <td>JOSE HERNANDEZ   1400 DOS AMBIENTES ESTRENAR ,...</td>\n",
       "      <td>Belgrano</td>\n",
       "      <td>0</td>\n",
       "      <td>0</td>\n",
       "      <td>1</td>\n",
       "      <td>3000.000000</td>\n",
       "    </tr>\n",
       "  </tbody>\n",
       "</table>\n",
       "<p>3 rows × 23 columns</p>\n",
       "</div>"
      ],
      "text/plain": [
       "   index property_type place_name  \\\n",
       "1      6            PH      Munro   \n",
       "2      7     apartment   Belgrano   \n",
       "3      8     apartment   Belgrano   \n",
       "\n",
       "                             place_with_parent_names  \\\n",
       "1  |Argentina|Bs.As. G.B.A. Zona Norte|Vicente Ló...   \n",
       "2               |Argentina|Capital Federal|Belgrano|   \n",
       "3               |Argentina|Capital Federal|Belgrano|   \n",
       "\n",
       "                 state_name        lat        lon     price  \\\n",
       "1  Bs.As. G.B.A. Zona Norte -34.532957 -58.521782  130000.0   \n",
       "2           Capital Federal -34.559873 -58.443362  138000.0   \n",
       "3           Capital Federal -34.559873 -58.443362  195000.0   \n",
       "\n",
       "   surface_total_in_m2  surface_covered_in_m2  ...  rooms  expenses  \\\n",
       "1                106.0                   78.0  ...    1.0       0.0   \n",
       "2                 45.0                   40.0  ...    1.0       0.0   \n",
       "3                 65.0                   60.0  ...    1.0       0.0   \n",
       "\n",
       "                                       properati_url  \\\n",
       "1  http://www.properati.com.ar/15bor_venta_ph_mun...   \n",
       "2  http://www.properati.com.ar/15bot_venta_depart...   \n",
       "3  http://www.properati.com.ar/15bou_venta_depart...   \n",
       "\n",
       "                                         description  \\\n",
       "1  MUY BUEN PH AL FRENTE CON ENTRADA INDEPENDIENT...   \n",
       "2  EXCELENTE MONOAMBIENTE A ESTRENAR AMPLIO SUPER...   \n",
       "3  EXCELENTE DOS AMBIENTES  ESTRENAR AMPLIO SUPER...   \n",
       "\n",
       "                                               title         ciudad  \\\n",
       "1  MUY BUEN PH AL FRENTE DOS DORMITORIOS , PATIO,...  Vicente López   \n",
       "2  JOSE HERNANDEZ 1400 MONOAMBIENTE  ESTRENAR CAT...       Belgrano   \n",
       "3  JOSE HERNANDEZ   1400 DOS AMBIENTES ESTRENAR ,...       Belgrano   \n",
       "\n",
       "  Tiene_Patio Es_Emprendimiento Cantidad_Baños  price_usd_per_m2_aprox  \n",
       "1           1                 0              1             1226.415094  \n",
       "2           0                 0              1             3066.666667  \n",
       "3           0                 0              1             3000.000000  \n",
       "\n",
       "[3 rows x 23 columns]"
      ]
     },
     "execution_count": 3,
     "metadata": {},
     "output_type": "execute_result"
    }
   ],
   "source": [
    "location = 'properati_cleaned.csv'\n",
    "data = pd.read_csv(location, index_col=0)\n",
    "data.head(3)"
   ]
  },
  {
   "cell_type": "code",
   "execution_count": 4,
   "id": "1714ae06-78a7-4039-bcb8-312d1e607ff1",
   "metadata": {},
   "outputs": [
    {
     "data": {
      "text/plain": [
       "index                        int64\n",
       "property_type               object\n",
       "place_name                  object\n",
       "place_with_parent_names     object\n",
       "state_name                  object\n",
       "lat                        float64\n",
       "lon                        float64\n",
       "price                      float64\n",
       "surface_total_in_m2        float64\n",
       "surface_covered_in_m2      float64\n",
       "price_usd_per_m2           float64\n",
       "price_per_m2               float64\n",
       "floor                      float64\n",
       "rooms                      float64\n",
       "expenses                   float64\n",
       "properati_url               object\n",
       "description                 object\n",
       "title                       object\n",
       "ciudad                      object\n",
       "Tiene_Patio                  int64\n",
       "Es_Emprendimiento            int64\n",
       "Cantidad_Baños               int64\n",
       "price_usd_per_m2_aprox     float64\n",
       "dtype: object"
      ]
     },
     "execution_count": 4,
     "metadata": {},
     "output_type": "execute_result"
    }
   ],
   "source": [
    "data.dtypes"
   ]
  },
  {
   "cell_type": "markdown",
   "id": "d1f796b1",
   "metadata": {},
   "source": [
    "Revisamos la correlacion entre los datos"
   ]
  },
  {
   "cell_type": "code",
   "execution_count": 5,
   "id": "fb3e9249",
   "metadata": {},
   "outputs": [
    {
     "data": {
      "image/png": "[encoded data removed]",
      "text/plain": [
       "<Figure size 864x864 with 2 Axes>"
      ]
     },
     "metadata": {
      "needs_background": "light"
     },
     "output_type": "display_data"
    }
   ],
   "source": [
    "fig, ax = plt.subplots(figsize=(12,12))\n",
    "sns.heatmap(data.corr(), annot=True, vmin=-1, cmap='Blues', ax=ax);"
   ]
  },
  {
   "cell_type": "markdown",
   "id": "c836bc34",
   "metadata": {},
   "source": [
    "Vemos que hay una fuerte correlacion .... _completar la idea_ "
   ]
  },
  {
   "cell_type": "markdown",
   "id": "3e5fab9c",
   "metadata": {},
   "source": [
    "Ahora revisamos la cantidad de nulos que contiene el dataset"
   ]
  },
  {
   "cell_type": "code",
   "execution_count": 6,
   "id": "4e09c225",
   "metadata": {},
   "outputs": [
    {
     "data": {
      "text/plain": [
       "<AxesSubplot:>"
      ]
     },
     "execution_count": 6,
     "metadata": {},
     "output_type": "execute_result"
    },
    {
     "data": {
      "image/png": "[encoded data removed]",
      "text/plain": [
       "<Figure size 864x864 with 2 Axes>"
      ]
     },
     "metadata": {
      "needs_background": "light"
     },
     "output_type": "display_data"
    }
   ],
   "source": [
    "fig, ax = plt.subplots(figsize=(12,12))\n",
    "sns.heatmap(data.isna(), ax=ax)"
   ]
  },
  {
   "cell_type": "markdown",
   "id": "db28fe8c",
   "metadata": {},
   "source": [
    "Como se puede observar tenemos presecia de valores nulos en las columnas _floor_, _surface_covered_m2_, _price_per_mt2_ y _place_name_. Esto será trabajado mas adelante."
   ]
  },
  {
   "cell_type": "markdown",
   "id": "9a208f4b",
   "metadata": {},
   "source": [
    "### Acciones preliminares\n",
    "---"
   ]
  },
  {
   "cell_type": "markdown",
   "id": "e14c5a71",
   "metadata": {},
   "source": [
    "Antes de aplicar un modelo a nuestro conjunto de datos, vamos a ordenar aún más nuestro dataset, para ellos efectuaremos las siguientes acciones:\n",
    "- Tratamiento de outliers\n",
    "- Imputación de valores faltantes\n",
    "- Remoción de columnas innecesarias\n",
    "- Conversión de variables categóricas a variables indicadoras (dummies)"
   ]
  },
  {
   "cell_type": "markdown",
   "id": "ad63e72a",
   "metadata": {},
   "source": [
    "#### Outliers"
   ]
  },
  {
   "cell_type": "markdown",
   "id": "1382f0b9",
   "metadata": {},
   "source": [
    "Teniendo en cuenta que anteriormente se hizo una imputación de datos faltantes y un tratamiento previo de valores extremos, por lo que la distribución de los dato ya ha sido modificada, sin embargo, aún es posible ver que tenemos valores de precio por metro cuadrado altos que pueden corresponderse con grandes superficies, por lo que analizaremos  ambos atributos. Veamos la distribución de los valores y un boxplot para comenzar a identificar los outliers."
   ]
  },
  {
   "cell_type": "markdown",
   "id": "a570f538",
   "metadata": {},
   "source": [
    "A continuación graficamos la distribución actual de los valores de las propiedades por metro cuadrado"
   ]
  },
  {
   "cell_type": "code",
   "execution_count": 7,
   "id": "cb69499f",
   "metadata": {},
   "outputs": [
    {
     "data": {
      "text/plain": [
       "<seaborn.axisgrid.FacetGrid at 0x1fd3129dd90>"
      ]
     },
     "execution_count": 7,
     "metadata": {},
     "output_type": "execute_result"
    },
    {
     "data": {
      "image/png": "[encoded data removed]",
      "text/plain": [
       "<Figure size 360x360 with 1 Axes>"
      ]
     },
     "metadata": {
      "needs_background": "light"
     },
     "output_type": "display_data"
    }
   ],
   "source": [
    "sns.displot(data['price_usd_per_m2'], bins=40, kde=True)"
   ]
  },
  {
   "cell_type": "markdown",
   "id": "e7cc6c97",
   "metadata": {},
   "source": [
    "Hacemos un boxplot para ver mejor esto datos"
   ]
  },
  {
   "cell_type": "code",
   "execution_count": 8,
   "id": "4448a80a",
   "metadata": {},
   "outputs": [
    {
     "data": {
      "text/plain": [
       "<AxesSubplot:xlabel='price_usd_per_m2'>"
      ]
     },
     "execution_count": 8,
     "metadata": {},
     "output_type": "execute_result"
    },
    {
     "data": {
      "image/png": "[encoded data removed]",
      "text/plain": [
       "<Figure size 864x288 with 1 Axes>"
      ]
     },
     "metadata": {
      "needs_background": "light"
     },
     "output_type": "display_data"
    }
   ],
   "source": [
    "plt.figure(figsize=(12, 4))\n",
    "sns.boxplot(x=data.price_usd_per_m2)"
   ]
  },
  {
   "cell_type": "markdown",
   "id": "2f92a183",
   "metadata": {},
   "source": [
    "Mostramos las estadísticas de esta columna "
   ]
  },
  {
   "cell_type": "code",
   "execution_count": 9,
   "id": "4d336f40",
   "metadata": {},
   "outputs": [
    {
     "data": {
      "text/plain": [
       "count    17405.000000\n",
       "mean      2018.606384\n",
       "std       1161.062037\n",
       "min          0.473631\n",
       "25%       1230.769231\n",
       "50%       1917.808219\n",
       "75%       2632.653061\n",
       "max       9966.666667\n",
       "Name: price_usd_per_m2, dtype: float64"
      ]
     },
     "execution_count": 9,
     "metadata": {},
     "output_type": "execute_result"
    }
   ],
   "source": [
    "data.price_usd_per_m2.describe()"
   ]
  },
  {
   "cell_type": "markdown",
   "id": "37cf922d",
   "metadata": {},
   "source": [
    "Estamos ante la presencia de valores extremos en la línea superior. Vamos a aplicar la técnica del rango intercuartílico para limpiarlos.\n",
    "\n",
    "Para obtener el rango calculamos la diferencia entre el tercer y el primer percentil. Luego en base a esto los valores mínimos y máximos para definir qué observaciones serán descartadas."
   ]
  },
  {
   "cell_type": "code",
   "execution_count": 10,
   "id": "cec79448",
   "metadata": {},
   "outputs": [],
   "source": [
    "# Realizamos el filtrado intercuartílico\n",
    "q75, q25 = np.percentile(data.price_usd_per_m2, [75 ,25]) #calculamos los percentiles\n",
    "iqr = q75 - q25 # calculamos el rango intercuartilico\n",
    "min = q25 - (iqr*1.5) \n",
    "max = q75 + (iqr*1.5)"
   ]
  },
  {
   "cell_type": "code",
   "execution_count": 11,
   "id": "dc5fba35",
   "metadata": {},
   "outputs": [
    {
     "data": {
      "text/html": [
       "<div>\n",
       "<style scoped>\n",
       "    .dataframe tbody tr th:only-of-type {\n",
       "        vertical-align: middle;\n",
       "    }\n",
       "\n",
       "    .dataframe tbody tr th {\n",
       "        vertical-align: top;\n",
       "    }\n",
       "\n",
       "    .dataframe thead th {\n",
       "        text-align: right;\n",
       "    }\n",
       "</style>\n",
       "<table border=\"1\" class=\"dataframe\">\n",
       "  <thead>\n",
       "    <tr style=\"text-align: right;\">\n",
       "      <th></th>\n",
       "      <th>index</th>\n",
       "      <th>property_type</th>\n",
       "      <th>place_name</th>\n",
       "      <th>place_with_parent_names</th>\n",
       "      <th>state_name</th>\n",
       "      <th>lat</th>\n",
       "      <th>lon</th>\n",
       "      <th>price</th>\n",
       "      <th>surface_total_in_m2</th>\n",
       "      <th>surface_covered_in_m2</th>\n",
       "      <th>...</th>\n",
       "      <th>rooms</th>\n",
       "      <th>expenses</th>\n",
       "      <th>properati_url</th>\n",
       "      <th>description</th>\n",
       "      <th>title</th>\n",
       "      <th>ciudad</th>\n",
       "      <th>Tiene_Patio</th>\n",
       "      <th>Es_Emprendimiento</th>\n",
       "      <th>Cantidad_Baños</th>\n",
       "      <th>price_usd_per_m2_aprox</th>\n",
       "    </tr>\n",
       "  </thead>\n",
       "  <tbody>\n",
       "    <tr>\n",
       "      <th>1</th>\n",
       "      <td>6</td>\n",
       "      <td>PH</td>\n",
       "      <td>Munro</td>\n",
       "      <td>|Argentina|Bs.As. G.B.A. Zona Norte|Vicente Ló...</td>\n",
       "      <td>Bs.As. G.B.A. Zona Norte</td>\n",
       "      <td>-34.532957</td>\n",
       "      <td>-58.521782</td>\n",
       "      <td>130000.0</td>\n",
       "      <td>106.0</td>\n",
       "      <td>78.0</td>\n",
       "      <td>...</td>\n",
       "      <td>1.0</td>\n",
       "      <td>0.0</td>\n",
       "      <td>http://www.properati.com.ar/15bor_venta_ph_mun...</td>\n",
       "      <td>MUY BUEN PH AL FRENTE CON ENTRADA INDEPENDIENT...</td>\n",
       "      <td>MUY BUEN PH AL FRENTE DOS DORMITORIOS , PATIO,...</td>\n",
       "      <td>Vicente López</td>\n",
       "      <td>1</td>\n",
       "      <td>0</td>\n",
       "      <td>1</td>\n",
       "      <td>1226.415094</td>\n",
       "    </tr>\n",
       "    <tr>\n",
       "      <th>2</th>\n",
       "      <td>7</td>\n",
       "      <td>apartment</td>\n",
       "      <td>Belgrano</td>\n",
       "      <td>|Argentina|Capital Federal|Belgrano|</td>\n",
       "      <td>Capital Federal</td>\n",
       "      <td>-34.559873</td>\n",
       "      <td>-58.443362</td>\n",
       "      <td>138000.0</td>\n",
       "      <td>45.0</td>\n",
       "      <td>40.0</td>\n",
       "      <td>...</td>\n",
       "      <td>1.0</td>\n",
       "      <td>0.0</td>\n",
       "      <td>http://www.properati.com.ar/15bot_venta_depart...</td>\n",
       "      <td>EXCELENTE MONOAMBIENTE A ESTRENAR AMPLIO SUPER...</td>\n",
       "      <td>JOSE HERNANDEZ 1400 MONOAMBIENTE  ESTRENAR CAT...</td>\n",
       "      <td>Belgrano</td>\n",
       "      <td>0</td>\n",
       "      <td>0</td>\n",
       "      <td>1</td>\n",
       "      <td>3066.666667</td>\n",
       "    </tr>\n",
       "    <tr>\n",
       "      <th>3</th>\n",
       "      <td>8</td>\n",
       "      <td>apartment</td>\n",
       "      <td>Belgrano</td>\n",
       "      <td>|Argentina|Capital Federal|Belgrano|</td>\n",
       "      <td>Capital Federal</td>\n",
       "      <td>-34.559873</td>\n",
       "      <td>-58.443362</td>\n",
       "      <td>195000.0</td>\n",
       "      <td>65.0</td>\n",
       "      <td>60.0</td>\n",
       "      <td>...</td>\n",
       "      <td>1.0</td>\n",
       "      <td>0.0</td>\n",
       "      <td>http://www.properati.com.ar/15bou_venta_depart...</td>\n",
       "      <td>EXCELENTE DOS AMBIENTES  ESTRENAR AMPLIO SUPER...</td>\n",
       "      <td>JOSE HERNANDEZ   1400 DOS AMBIENTES ESTRENAR ,...</td>\n",
       "      <td>Belgrano</td>\n",
       "      <td>0</td>\n",
       "      <td>0</td>\n",
       "      <td>1</td>\n",
       "      <td>3000.000000</td>\n",
       "    </tr>\n",
       "  </tbody>\n",
       "</table>\n",
       "<p>3 rows × 23 columns</p>\n",
       "</div>"
      ],
      "text/plain": [
       "   index property_type place_name  \\\n",
       "1      6            PH      Munro   \n",
       "2      7     apartment   Belgrano   \n",
       "3      8     apartment   Belgrano   \n",
       "\n",
       "                             place_with_parent_names  \\\n",
       "1  |Argentina|Bs.As. G.B.A. Zona Norte|Vicente Ló...   \n",
       "2               |Argentina|Capital Federal|Belgrano|   \n",
       "3               |Argentina|Capital Federal|Belgrano|   \n",
       "\n",
       "                 state_name        lat        lon     price  \\\n",
       "1  Bs.As. G.B.A. Zona Norte -34.532957 -58.521782  130000.0   \n",
       "2           Capital Federal -34.559873 -58.443362  138000.0   \n",
       "3           Capital Federal -34.559873 -58.443362  195000.0   \n",
       "\n",
       "   surface_total_in_m2  surface_covered_in_m2  ...  rooms  expenses  \\\n",
       "1                106.0                   78.0  ...    1.0       0.0   \n",
       "2                 45.0                   40.0  ...    1.0       0.0   \n",
       "3                 65.0                   60.0  ...    1.0       0.0   \n",
       "\n",
       "                                       properati_url  \\\n",
       "1  http://www.properati.com.ar/15bor_venta_ph_mun...   \n",
       "2  http://www.properati.com.ar/15bot_venta_depart...   \n",
       "3  http://www.properati.com.ar/15bou_venta_depart...   \n",
       "\n",
       "                                         description  \\\n",
       "1  MUY BUEN PH AL FRENTE CON ENTRADA INDEPENDIENT...   \n",
       "2  EXCELENTE MONOAMBIENTE A ESTRENAR AMPLIO SUPER...   \n",
       "3  EXCELENTE DOS AMBIENTES  ESTRENAR AMPLIO SUPER...   \n",
       "\n",
       "                                               title         ciudad  \\\n",
       "1  MUY BUEN PH AL FRENTE DOS DORMITORIOS , PATIO,...  Vicente López   \n",
       "2  JOSE HERNANDEZ 1400 MONOAMBIENTE  ESTRENAR CAT...       Belgrano   \n",
       "3  JOSE HERNANDEZ   1400 DOS AMBIENTES ESTRENAR ,...       Belgrano   \n",
       "\n",
       "  Tiene_Patio Es_Emprendimiento Cantidad_Baños  price_usd_per_m2_aprox  \n",
       "1           1                 0              1             1226.415094  \n",
       "2           0                 0              1             3066.666667  \n",
       "3           0                 0              1             3000.000000  \n",
       "\n",
       "[3 rows x 23 columns]"
      ]
     },
     "execution_count": 11,
     "metadata": {},
     "output_type": "execute_result"
    }
   ],
   "source": [
    "data = data[(data.price_usd_per_m2 > min) & (data.price_usd_per_m2 < max)]\n",
    "data.head(3)"
   ]
  },
  {
   "cell_type": "markdown",
   "id": "76b7b9ab",
   "metadata": {},
   "source": [
    "Volvemos a plotear los precios sin los outliers"
   ]
  },
  {
   "cell_type": "code",
   "execution_count": 12,
   "id": "344b5bc7",
   "metadata": {},
   "outputs": [
    {
     "data": {
      "text/plain": [
       "<seaborn.axisgrid.FacetGrid at 0x1fd317357f0>"
      ]
     },
     "execution_count": 12,
     "metadata": {},
     "output_type": "execute_result"
    },
    {
     "data": {
      "image/png": "[encoded data removed]",
      "text/plain": [
       "<Figure size 360x360 with 1 Axes>"
      ]
     },
     "metadata": {
      "needs_background": "light"
     },
     "output_type": "display_data"
    }
   ],
   "source": [
    "sns.displot(data['price_usd_per_m2'], bins=20, kde=True)"
   ]
  },
  {
   "cell_type": "code",
   "execution_count": 13,
   "id": "4515d5b2",
   "metadata": {},
   "outputs": [
    {
     "data": {
      "text/plain": [
       "<AxesSubplot:xlabel='price_usd_per_m2'>"
      ]
     },
     "execution_count": 13,
     "metadata": {},
     "output_type": "execute_result"
    },
    {
     "data": {
      "image/png": "[encoded data removed]",
      "text/plain": [
       "<Figure size 864x288 with 1 Axes>"
      ]
     },
     "metadata": {
      "needs_background": "light"
     },
     "output_type": "display_data"
    }
   ],
   "source": [
    "plt.figure(figsize=(12, 4))\n",
    "sns.boxplot(x=data.price_usd_per_m2)"
   ]
  },
  {
   "cell_type": "markdown",
   "id": "ad229509-1dda-49a1-9124-70629fc82b79",
   "metadata": {},
   "source": [
    "### Outliers de baños, rooms y expenses."
   ]
  },
  {
   "cell_type": "code",
   "execution_count": 14,
   "id": "c49f99fd-82ba-4851-9bc5-5e8948577f51",
   "metadata": {},
   "outputs": [
    {
     "name": "stdout",
     "output_type": "stream",
     "text": [
      "Antes de eliminar rooms, baños y expenses (16966, 23)\n"
     ]
    }
   ],
   "source": [
    "print(\"Antes de eliminar rooms, baños y expenses\", data.shape)"
   ]
  },
  {
   "cell_type": "code",
   "execution_count": 15,
   "id": "a2270703-dd6e-47d1-9e9c-6bef4b5c8d85",
   "metadata": {},
   "outputs": [
    {
     "data": {
      "text/plain": [
       "<AxesSubplot:xlabel='expenses'>"
      ]
     },
     "execution_count": 15,
     "metadata": {},
     "output_type": "execute_result"
    },
    {
     "data": {
      "image/png": "[encoded data removed]",
      "text/plain": [
       "<Figure size 864x72 with 1 Axes>"
      ]
     },
     "metadata": {
      "needs_background": "light"
     },
     "output_type": "display_data"
    }
   ],
   "source": [
    "plt.figure(figsize=(12, 1))\n",
    "sns.boxplot(x=data.expenses)"
   ]
  },
  {
   "cell_type": "code",
   "execution_count": 16,
   "id": "716dc800-7c2c-4379-92dd-6274e861a0d6",
   "metadata": {},
   "outputs": [
    {
     "data": {
      "text/plain": [
       "<AxesSubplot:xlabel='Cantidad_Baños'>"
      ]
     },
     "execution_count": 16,
     "metadata": {},
     "output_type": "execute_result"
    },
    {
     "data": {
      "image/png": "[encoded data removed]",
      "text/plain": [
       "<Figure size 864x72 with 1 Axes>"
      ]
     },
     "metadata": {
      "needs_background": "light"
     },
     "output_type": "display_data"
    }
   ],
   "source": [
    "plt.figure(figsize=(12, 1))\n",
    "sns.boxplot(x=data.Cantidad_Baños)"
   ]
  },
  {
   "cell_type": "code",
   "execution_count": 17,
   "id": "9ae5e0d0-5039-4bc1-8344-f125d8c48c16",
   "metadata": {},
   "outputs": [
    {
     "data": {
      "text/plain": [
       "<AxesSubplot:xlabel='rooms'>"
      ]
     },
     "execution_count": 17,
     "metadata": {},
     "output_type": "execute_result"
    },
    {
     "data": {
      "image/png": "[encoded data removed]",
      "text/plain": [
       "<Figure size 864x72 with 1 Axes>"
      ]
     },
     "metadata": {
      "needs_background": "light"
     },
     "output_type": "display_data"
    }
   ],
   "source": [
    "plt.figure(figsize=(12, 1))\n",
    "sns.boxplot(x=data.rooms)"
   ]
  },
  {
   "cell_type": "code",
   "execution_count": 18,
   "id": "078e063e-eea6-44a5-8c74-6a79091dd215",
   "metadata": {},
   "outputs": [
    {
     "name": "stdout",
     "output_type": "stream",
     "text": [
      "Cantidad máxima de habitaciones:  32.0\n"
     ]
    },
    {
     "data": {
      "text/plain": [
       "1.0     6630\n",
       "3.0     3415\n",
       "2.0     2888\n",
       "4.0     2438\n",
       "5.0     1020\n",
       "6.0      337\n",
       "7.0      134\n",
       "8.0       46\n",
       "10.0      18\n",
       "9.0       12\n",
       "0.0        9\n",
       "12.0       9\n",
       "11.0       6\n",
       "14.0       1\n",
       "15.0       1\n",
       "32.0       1\n",
       "13.0       1\n",
       "Name: rooms, dtype: int64"
      ]
     },
     "execution_count": 18,
     "metadata": {},
     "output_type": "execute_result"
    }
   ],
   "source": [
    "print(\"Cantidad máxima de habitaciones: \", data.rooms.max())\n",
    "data.rooms.value_counts()"
   ]
  },
  {
   "cell_type": "code",
   "execution_count": 19,
   "id": "9ec31632-e191-47cd-90a3-5494a5ddaa1c",
   "metadata": {},
   "outputs": [
    {
     "name": "stdout",
     "output_type": "stream",
     "text": [
      "Cantidad máxima de baños:  9\n"
     ]
    },
    {
     "data": {
      "text/plain": [
       "1    15683\n",
       "2      929\n",
       "3      237\n",
       "4       63\n",
       "5       24\n",
       "0       17\n",
       "6        7\n",
       "9        2\n",
       "7        2\n",
       "8        2\n",
       "Name: Cantidad_Baños, dtype: int64"
      ]
     },
     "execution_count": 19,
     "metadata": {},
     "output_type": "execute_result"
    }
   ],
   "source": [
    "print(\"Cantidad máxima de baños: \", data.Cantidad_Baños.max())\n",
    "data.Cantidad_Baños.value_counts()"
   ]
  },
  {
   "cell_type": "code",
   "execution_count": 20,
   "id": "b3fc9f31-2acd-4330-8ca3-faf5416db166",
   "metadata": {},
   "outputs": [],
   "source": [
    "mask = (data.expenses < 20000) & (data.rooms < 11) & (data.Cantidad_Baños < 6) & (data.Cantidad_Baños != 0) & \\\n",
    "       (data.place_name != \"coordenadas 34.255511\") & (data.rooms != 0)\n",
    "data = data[mask]"
   ]
  },
  {
   "cell_type": "code",
   "execution_count": 21,
   "id": "6cb19d49-da11-43c9-b231-7b4d1833f926",
   "metadata": {},
   "outputs": [
    {
     "name": "stdout",
     "output_type": "stream",
     "text": [
      "Cantidad máxima de habitaciones:  10.0\n"
     ]
    },
    {
     "data": {
      "text/plain": [
       "1.0     6610\n",
       "3.0     3408\n",
       "2.0     2881\n",
       "4.0     2425\n",
       "5.0     1013\n",
       "6.0      335\n",
       "7.0      133\n",
       "8.0       45\n",
       "10.0      17\n",
       "9.0       12\n",
       "Name: rooms, dtype: int64"
      ]
     },
     "execution_count": 21,
     "metadata": {},
     "output_type": "execute_result"
    }
   ],
   "source": [
    "print(\"Cantidad máxima de habitaciones: \", data.rooms.max())\n",
    "data.rooms.value_counts()"
   ]
  },
  {
   "cell_type": "code",
   "execution_count": 22,
   "id": "08a25a09-60ff-4d06-9729-4a7d8ce58e98",
   "metadata": {},
   "outputs": [
    {
     "name": "stdout",
     "output_type": "stream",
     "text": [
      "Cantidad máxima de baños:  5\n"
     ]
    },
    {
     "data": {
      "text/plain": [
       "1    15638\n",
       "2      928\n",
       "3      231\n",
       "4       60\n",
       "5       22\n",
       "Name: Cantidad_Baños, dtype: int64"
      ]
     },
     "execution_count": 22,
     "metadata": {},
     "output_type": "execute_result"
    }
   ],
   "source": [
    "print(\"Cantidad máxima de baños: \", data.Cantidad_Baños.max())\n",
    "data.Cantidad_Baños.value_counts()"
   ]
  },
  {
   "cell_type": "code",
   "execution_count": 23,
   "id": "cdcccbbb-4b02-4980-95fc-aa695d6cc64f",
   "metadata": {
    "tags": []
   },
   "outputs": [
    {
     "name": "stdout",
     "output_type": "stream",
     "text": [
      "Después de eliminar rooms, baños y expenses (16879, 23)\n"
     ]
    }
   ],
   "source": [
    "print(\"Después de eliminar rooms, baños y expenses\", data.shape)"
   ]
  },
  {
   "cell_type": "markdown",
   "id": "71590c22-e876-453c-bf98-c035539874b1",
   "metadata": {},
   "source": [
    "Revisamos variables numéricas"
   ]
  },
  {
   "cell_type": "code",
   "execution_count": 24,
   "id": "77286ffe-65b9-447d-8cff-0b650c6b2a84",
   "metadata": {},
   "outputs": [
    {
     "data": {
      "text/plain": [
       "<AxesSubplot:xlabel='surface_total_in_m2', ylabel='price_usd_per_m2'>"
      ]
     },
     "execution_count": 24,
     "metadata": {},
     "output_type": "execute_result"
    },
    {
     "data": {
      "image/png": "[encoded data removed]",
      "text/plain": [
       "<Figure size 432x288 with 1 Axes>"
      ]
     },
     "metadata": {
      "needs_background": "light"
     },
     "output_type": "display_data"
    }
   ],
   "source": [
    "sns.scatterplot(data=data, x='surface_total_in_m2', y='price_usd_per_m2')"
   ]
  },
  {
   "cell_type": "markdown",
   "id": "9dd7b5d2-9fbd-408b-b85a-386e9d4e4f8d",
   "metadata": {},
   "source": [
    "Como puede observarse en esta grafica, tenemos un par de valores extremos en esta variable que afectan la distribución de los datos"
   ]
  },
  {
   "cell_type": "markdown",
   "id": "7bf9ba2b-91f9-4783-9b1a-a98720f86009",
   "metadata": {},
   "source": [
    "A continuación se removerán datos con valor 0 para las columnas de `surface_total_in_m2`"
   ]
  },
  {
   "cell_type": "markdown",
   "id": "3fbd4823-882c-4ae2-b39e-a42fcf968e72",
   "metadata": {},
   "source": [
    "**Superficie total x mt2**"
   ]
  },
  {
   "cell_type": "markdown",
   "id": "4afd19b7-4249-40b9-91ba-d27f612107a8",
   "metadata": {},
   "source": [
    "Ordenamos los valores de las observaciones por la columna de sup. x mt2"
   ]
  },
  {
   "cell_type": "code",
   "execution_count": 25,
   "id": "5bf5eee4-60b4-48a1-9139-c3c5b851c85b",
   "metadata": {},
   "outputs": [
    {
     "data": {
      "text/plain": [
       "12936     9.0\n",
       "23711    10.0\n",
       "13364    12.0\n",
       "5746     12.0\n",
       "42168    12.0\n",
       "Name: surface_covered_in_m2, dtype: float64"
      ]
     },
     "execution_count": 25,
     "metadata": {},
     "output_type": "execute_result"
    }
   ],
   "source": [
    "data.sort_values(by=['surface_total_in_m2']).surface_covered_in_m2.head()"
   ]
  },
  {
   "cell_type": "markdown",
   "id": "1936fdb0-a87a-407f-8bbb-386257c1337b",
   "metadata": {},
   "source": [
    "Vemos que si bien hay valores pequeños, ninguno llega a cero, Pero si vemos que hay algunos valores extremos."
   ]
  },
  {
   "cell_type": "markdown",
   "id": "80667f0b-7e58-4aca-8694-b210314e86f7",
   "metadata": {},
   "source": [
    "Vemos que cantidad de valores hay con una superficie total mayor a 4000 con un precio por metro cuadrado menor de 500"
   ]
  },
  {
   "cell_type": "code",
   "execution_count": 26,
   "id": "08ba66ac-cec8-4396-b7bd-2bcfffe0eb06",
   "metadata": {},
   "outputs": [
    {
     "data": {
      "text/plain": [
       "False    16860\n",
       "True        19\n",
       "Name: surface_total_in_m2, dtype: int64"
      ]
     },
     "execution_count": 26,
     "metadata": {},
     "output_type": "execute_result"
    }
   ],
   "source": [
    "((data['surface_total_in_m2'] > 5000).value_counts())"
   ]
  },
  {
   "cell_type": "markdown",
   "id": "c5d434a4-2eae-4fca-a859-85292dcdd102",
   "metadata": {},
   "source": [
    "Se remueven estos valores"
   ]
  },
  {
   "cell_type": "code",
   "execution_count": 27,
   "id": "60f873f2-985b-48ca-b85b-c919089c00c7",
   "metadata": {},
   "outputs": [],
   "source": [
    "mask = (data['surface_total_in_m2'] < 5000)\n",
    "data = data[mask]"
   ]
  },
  {
   "cell_type": "markdown",
   "id": "a086d218-dc37-4ef2-8638-6ad507bf0810",
   "metadata": {},
   "source": [
    "Se vuelve a plotear los valores para esta variable"
   ]
  },
  {
   "cell_type": "code",
   "execution_count": 28,
   "id": "74d6fe7b-b2a9-4c0e-8244-a8e61e941b4f",
   "metadata": {},
   "outputs": [
    {
     "data": {
      "text/plain": [
       "<AxesSubplot:xlabel='surface_total_in_m2', ylabel='price_usd_per_m2'>"
      ]
     },
     "execution_count": 28,
     "metadata": {},
     "output_type": "execute_result"
    },
    {
     "data": {
      "image/png": "[encoded data removed]",
      "text/plain": [
       "<Figure size 432x288 with 1 Axes>"
      ]
     },
     "metadata": {
      "needs_background": "light"
     },
     "output_type": "display_data"
    }
   ],
   "source": [
    "sns.scatterplot(data=data, x='surface_total_in_m2', y='price_usd_per_m2')"
   ]
  },
  {
   "cell_type": "markdown",
   "id": "3cf709fe-9519-4b31-b363-6e18d9863203",
   "metadata": {},
   "source": [
    "Vemos que hay un mejora en la distribución de los datos"
   ]
  },
  {
   "cell_type": "markdown",
   "id": "28a7997f-b008-4c9f-8011-83584622ac22",
   "metadata": {},
   "source": [
    "También graficamos superficies totales con respecto a superficies cubiertas, para ver que las cubiertas no sean mayores a las totales"
   ]
  },
  {
   "cell_type": "code",
   "execution_count": 29,
   "id": "9caca0cd-93ac-4bde-8131-f165e466dd52",
   "metadata": {},
   "outputs": [
    {
     "data": {
      "text/plain": [
       "<AxesSubplot:xlabel='surface_total_in_m2', ylabel='surface_covered_in_m2'>"
      ]
     },
     "execution_count": 29,
     "metadata": {},
     "output_type": "execute_result"
    },
    {
     "data": {
      "image/png": "[encoded data removed]",
      "text/plain": [
       "<Figure size 432x288 with 1 Axes>"
      ]
     },
     "metadata": {
      "needs_background": "light"
     },
     "output_type": "display_data"
    }
   ],
   "source": [
    "sns.scatterplot(data=data, x='surface_total_in_m2', y='surface_covered_in_m2')"
   ]
  },
  {
   "cell_type": "markdown",
   "id": "cebebe1c-2066-40d9-9bf4-d2fa5806301e",
   "metadata": {},
   "source": [
    "Nos aseguramos numéricamente."
   ]
  },
  {
   "cell_type": "code",
   "execution_count": 30,
   "id": "fdc76fc2-7299-43e4-a6d9-60f5c5642ca7",
   "metadata": {},
   "outputs": [
    {
     "data": {
      "text/plain": [
       "False    16860\n",
       "Name: surface_total_in_m2, dtype: int64"
      ]
     },
     "execution_count": 30,
     "metadata": {},
     "output_type": "execute_result"
    }
   ],
   "source": [
    "(data.surface_total_in_m2 < data.surface_total_in_m2).value_counts()"
   ]
  },
  {
   "cell_type": "markdown",
   "id": "20a125f4-07e0-41a3-9a33-a0378453d1b2",
   "metadata": {},
   "source": [
    "---\n",
    "## GeoPandas"
   ]
  },
  {
   "cell_type": "markdown",
   "id": "8bd8ebde-ac8c-4b1d-9ad4-8e6a91a43e24",
   "metadata": {},
   "source": [
    "Generamos el GeoDataFrame (con EPSG:5341 siguiendo recomendación de la notebook y uno con EPSG:4326 para poder graficar)"
   ]
  },
  {
   "cell_type": "code",
   "execution_count": 31,
   "id": "9e8ea749",
   "metadata": {},
   "outputs": [
    {
     "data": {
      "text/html": [
       "<div>\n",
       "<style scoped>\n",
       "    .dataframe tbody tr th:only-of-type {\n",
       "        vertical-align: middle;\n",
       "    }\n",
       "\n",
       "    .dataframe tbody tr th {\n",
       "        vertical-align: top;\n",
       "    }\n",
       "\n",
       "    .dataframe thead th {\n",
       "        text-align: right;\n",
       "    }\n",
       "</style>\n",
       "<table border=\"1\" class=\"dataframe\">\n",
       "  <thead>\n",
       "    <tr style=\"text-align: right;\">\n",
       "      <th></th>\n",
       "      <th>geometry</th>\n",
       "      <th>lat</th>\n",
       "      <th>lon</th>\n",
       "      <th>place_name</th>\n",
       "    </tr>\n",
       "  </thead>\n",
       "  <tbody>\n",
       "    <tr>\n",
       "      <th>21389</th>\n",
       "      <td>POINT (2750430.930 -4472137.647)</td>\n",
       "      <td>-34.687609</td>\n",
       "      <td>-58.407868</td>\n",
       "      <td>Lanús Oeste</td>\n",
       "    </tr>\n",
       "    <tr>\n",
       "      <th>59194</th>\n",
       "      <td>POINT (2729252.771 -4487345.509)</td>\n",
       "      <td>-34.657124</td>\n",
       "      <td>-58.691574</td>\n",
       "      <td>Ituzaingó</td>\n",
       "    </tr>\n",
       "    <tr>\n",
       "      <th>23800</th>\n",
       "      <td>POINT (2751811.374 -4476958.563)</td>\n",
       "      <td>-34.611033</td>\n",
       "      <td>-58.422584</td>\n",
       "      <td>Almagro</td>\n",
       "    </tr>\n",
       "  </tbody>\n",
       "</table>\n",
       "</div>"
      ],
      "text/plain": [
       "                               geometry        lat        lon   place_name\n",
       "21389  POINT (2750430.930 -4472137.647) -34.687609 -58.407868  Lanús Oeste\n",
       "59194  POINT (2729252.771 -4487345.509) -34.657124 -58.691574    Ituzaingó\n",
       "23800  POINT (2751811.374 -4476958.563) -34.611033 -58.422584      Almagro"
      ]
     },
     "execution_count": 31,
     "metadata": {},
     "output_type": "execute_result"
    }
   ],
   "source": [
    "geometria = gpd.points_from_xy(data.lon, data.lat)\n",
    "geo_data_graf = gpd.GeoDataFrame(data, geometry=geometria, crs=\"EPSG:4326\")\n",
    "geo_data = geo_data_graf[~geo_data_graf.geometry.isna()].to_crs(\"EPSG:5341\")\n",
    "geo_data.loc[:, ['geometry', 'lat', 'lon', 'place_name']].sample(3)"
   ]
  },
  {
   "cell_type": "markdown",
   "id": "a03d6ceb-72ca-4f27-936d-6e61b4cfafbd",
   "metadata": {},
   "source": [
    "Graficamos las propiedades en el plano de argentina"
   ]
  },
  {
   "cell_type": "code",
   "execution_count": 32,
   "id": "94e3b85f",
   "metadata": {},
   "outputs": [
    {
     "data": {
      "image/png": "[encoded data removed]",
      "text/plain": [
       "<Figure size 720x1080 with 1 Axes>"
      ]
     },
     "metadata": {
      "needs_background": "light"
     },
     "output_type": "display_data"
    }
   ],
   "source": [
    "world = gpd.read_file(gpd.datasets.get_path('naturalearth_lowres'))\n",
    "argentina = world[world.name==\"Argentina\"]\n",
    "\n",
    "ax = argentina.plot(color='white', edgecolor='black', figsize=(10,15))\n",
    "\n",
    "geo_data_graf.plot(ax=ax, color='red')\n",
    "\n",
    "plt.show()"
   ]
  },
  {
   "cell_type": "markdown",
   "id": "e48d6c3b-ffa6-4a11-b5ef-45e0328630bc",
   "metadata": {},
   "source": [
    "Para observar con un poco más de pecisión mostramos los datos en un mapa de la provincia de Buenos Aires obtenidos de https://www.ign.gob.ar/NuestrasActividades/InformacionGeoespacial/CapasSIG"
   ]
  },
  {
   "cell_type": "code",
   "execution_count": 33,
   "id": "f76d73df",
   "metadata": {},
   "outputs": [
    {
     "data": {
      "image/png": "[encoded data removed]",
      "text/plain": [
       "<Figure size 720x1080 with 1 Axes>"
      ]
     },
     "metadata": {
      "needs_background": "light"
     },
     "output_type": "display_data"
    }
   ],
   "source": [
    "#provincia = pd.read_csv(\"provincia.csv\")\n",
    "provincia = pd.read_csv(\"provincia.csv\")\n",
    "\n",
    "# Separamos la provincia de buenos aires\n",
    "bsas_mask = provincia.fna == \"Provincia de Buenos Aires\"\n",
    "bsas = provincia[bsas_mask]\n",
    "\n",
    "# Generamos el polígono\n",
    "bsas[\"geom\"] = bsas[\"geom\"].apply(shapely.wkt.loads) \n",
    "geo_bsas = gpd.GeoDataFrame(bsas, geometry='geom')\n",
    "\n",
    "# Graficamos\n",
    "ax = geo_bsas.plot(color='white', edgecolor='black', figsize=(10,15))\n",
    "geo_data_graf.plot(ax=ax, color='red')\n",
    "plt.show()"
   ]
  },
  {
   "cell_type": "markdown",
   "id": "1e479785-90d6-4617-a58a-9bbefb5be886",
   "metadata": {},
   "source": [
    "---\n",
    "Se obtuvo manualmente una cierta cantidad de puntos del Río de la Plata, para calcular la distancia de las propiedades a este."
   ]
  },
  {
   "cell_type": "code",
   "execution_count": 34,
   "id": "6730bb5c",
   "metadata": {
    "tags": []
   },
   "outputs": [
    {
     "data": {
      "text/html": [
       "<div>\n",
       "<style scoped>\n",
       "    .dataframe tbody tr th:only-of-type {\n",
       "        vertical-align: middle;\n",
       "    }\n",
       "\n",
       "    .dataframe tbody tr th {\n",
       "        vertical-align: top;\n",
       "    }\n",
       "\n",
       "    .dataframe thead th {\n",
       "        text-align: right;\n",
       "    }\n",
       "</style>\n",
       "<table border=\"1\" class=\"dataframe\">\n",
       "  <thead>\n",
       "    <tr style=\"text-align: right;\">\n",
       "      <th></th>\n",
       "      <th>lat</th>\n",
       "      <th>lon</th>\n",
       "      <th>geometry</th>\n",
       "    </tr>\n",
       "  </thead>\n",
       "  <tbody>\n",
       "    <tr>\n",
       "      <th>0</th>\n",
       "      <td>-34.371036</td>\n",
       "      <td>-58.441605</td>\n",
       "      <td>POINT (2758215.266 -4490718.323)</td>\n",
       "    </tr>\n",
       "    <tr>\n",
       "      <th>1</th>\n",
       "      <td>-34.386537</td>\n",
       "      <td>-58.458501</td>\n",
       "      <td>POINT (2756382.959 -4490704.002)</td>\n",
       "    </tr>\n",
       "    <tr>\n",
       "      <th>2</th>\n",
       "      <td>-34.393613</td>\n",
       "      <td>-58.474832</td>\n",
       "      <td>POINT (2754871.046 -4491111.554)</td>\n",
       "    </tr>\n",
       "  </tbody>\n",
       "</table>\n",
       "</div>"
      ],
      "text/plain": [
       "          lat         lon                          geometry\n",
       "0  -34.371036  -58.441605  POINT (2758215.266 -4490718.323)\n",
       "1  -34.386537  -58.458501  POINT (2756382.959 -4490704.002)\n",
       "2  -34.393613  -58.474832  POINT (2754871.046 -4491111.554)"
      ]
     },
     "execution_count": 34,
     "metadata": {},
     "output_type": "execute_result"
    }
   ],
   "source": [
    "dict_rio = {'lat' : ['-34.371036', '-34.386537', '-34.393613', '-34.404730', '-34.412788', '-34.420871',\n",
    "                     '-34.427102', '-34.437709', '-34.438888', '-34.445538', '-34.465354', '-34.486298',\n",
    "                     '-34.507236', '-34.523078', '-34.541179', '-34.559842', '-34.573978', '-34.596025',\n",
    "                     '-34.622236', '-34.648439', '-34.669261', '-34.688063', '-34.710217', '-34.737063',\n",
    "                     '-34.748469', '-34.747402', '-34.769740', '-34.776122', '-34.819528', '-34.828059',\n",
    "                     '-34.827112', '-34.847016', '-34.862178', '-34.885863'], \n",
    "            'lon' : ['-58.441605', '-58.458501', '-58.474832', '-58.481364', '-58.493858', '-58.493246',\n",
    "                     '-58.491408', '-58.487938', '-58.497941', '-58.511995', '-58.492769', '-58.477662',\n",
    "                     '-58.472169', '-58.458436', '-58.431657', '-58.404191', '-58.370546', '-58.354066',\n",
    "                     '-58.335537', '-58.324105', '-58.291442', '-58.257963', '-58.220401', '-58.187739',\n",
    "                     '-58.128946', '-58.101584', '-58.064684', '-58.006420', '-57.955088', '-57.928527',\n",
    "                     '-57.876562', '-57.848847', '-57.822286', '-57.788797']}\n",
    "\n",
    "df_rio = pd.DataFrame(data = dict_rio)\n",
    "geometria_rio = gpd.points_from_xy(df_rio.lon, df_rio.lat)\n",
    "geo_rio_graf = gpd.GeoDataFrame(df_rio, geometry=geometria_rio, crs=\"EPSG:4326\")\n",
    "geo_rio = geo_rio_graf[~geo_rio_graf.geometry.isna()].to_crs(\"EPSG:5341\")\n",
    "geo_rio.head(3)"
   ]
  },
  {
   "cell_type": "markdown",
   "id": "cdfb7b61-49d8-44d3-aaa8-adc786ebbe18",
   "metadata": {},
   "source": [
    "Graficamos los puntos del Río junto con los de las propiedades"
   ]
  },
  {
   "cell_type": "code",
   "execution_count": 35,
   "id": "2a32cf96",
   "metadata": {},
   "outputs": [
    {
     "data": {
      "image/png": "[encoded data removed]",
      "text/plain": [
       "<Figure size 720x1080 with 1 Axes>"
      ]
     },
     "metadata": {
      "needs_background": "light"
     },
     "output_type": "display_data"
    }
   ],
   "source": [
    "ax = geo_bsas.plot(color='white', edgecolor='black', figsize=(10,15))\n",
    "geo_data_graf.plot(ax=ax, color='red')\n",
    "geo_rio_graf.plot(ax=ax, color='blue')\n",
    "plt.show()"
   ]
  },
  {
   "cell_type": "code",
   "execution_count": 36,
   "id": "72e4bcd3",
   "metadata": {},
   "outputs": [
    {
     "data": {
      "image/svg+xml": "<svg xmlns=\"http://www.w3.org/2000/svg\" xmlns:xlink=\"http://www.w3.org/1999/xlink\" width=\"100.0\" height=\"100.0\" viewBox=\"-58.54092292 -34.91479092 0.7810538399999984 0.5726828400000059\" preserveAspectRatio=\"xMinYMin meet\"><g transform=\"matrix(1,0,0,-1,0,-69.256899)\"><polyline fill=\"none\" stroke=\"#66cc99\" stroke-width=\"0.015621076799999968\" points=\"-58.441605,-34.371036 -58.458501,-34.386537 -58.474832,-34.393613 -58.481364,-34.40473 -58.493858,-34.412788 -58.493246,-34.420871 -58.491408,-34.427102 -58.487938,-34.437709 -58.497941,-34.438888 -58.511995,-34.445538 -58.492769,-34.465354 -58.477662,-34.486298 -58.472169,-34.507236 -58.458436,-34.523078 -58.431657,-34.541179 -58.404191,-34.559842 -58.370546,-34.573978 -58.354066,-34.596025 -58.335537,-34.622236 -58.324105,-34.648439 -58.291442,-34.669261 -58.257963,-34.688063 -58.220401,-34.710217 -58.187739,-34.737063 -58.128946,-34.748469 -58.101584,-34.747402 -58.064684,-34.76974 -58.00642,-34.776122 -57.955088,-34.819528 -57.928527,-34.828059 -57.876562,-34.827112 -57.848847,-34.847016 -57.822286,-34.862178 -57.788797,-34.885863\" opacity=\"0.8\" /></g></svg>",
      "text/plain": [
       "<shapely.geometry.linestring.LineString at 0x1fd350bdfd0>"
      ]
     },
     "execution_count": 36,
     "metadata": {},
     "output_type": "execute_result"
    }
   ],
   "source": [
    "line_rio = LineString(geo_rio.geometry)\n",
    "line_rio_graf = LineString(geo_rio_graf.geometry)\n",
    "line_rio_graf"
   ]
  },
  {
   "cell_type": "code",
   "execution_count": 37,
   "id": "9a9b8946",
   "metadata": {},
   "outputs": [
    {
     "name": "stdout",
     "output_type": "stream",
     "text": [
      "Tipo de dato:  <class 'pandas.core.series.Series'>\n",
      "Tamaño serie distancias:  16860\n",
      "Tamaño data set properati:  404640\n"
     ]
    },
    {
     "data": {
      "text/plain": [
       "1     4832.377040\n",
       "2     1518.575258\n",
       "3     1518.575258\n",
       "5     1639.803133\n",
       "8    19345.651819\n",
       "dtype: float64"
      ]
     },
     "execution_count": 37,
     "metadata": {},
     "output_type": "execute_result"
    }
   ],
   "source": [
    "distancias = geo_data.geometry.distance(line_rio)\n",
    "print(\"Tipo de dato: \", type(distancias))\n",
    "print(\"Tamaño serie distancias: \", distancias.size)\n",
    "print(\"Tamaño data set properati: \", data.size)\n",
    "distancias.head()"
   ]
  },
  {
   "cell_type": "code",
   "execution_count": 38,
   "id": "464021dd",
   "metadata": {},
   "outputs": [
    {
     "data": {
      "text/html": [
       "<div>\n",
       "<style scoped>\n",
       "    .dataframe tbody tr th:only-of-type {\n",
       "        vertical-align: middle;\n",
       "    }\n",
       "\n",
       "    .dataframe tbody tr th {\n",
       "        vertical-align: top;\n",
       "    }\n",
       "\n",
       "    .dataframe thead th {\n",
       "        text-align: right;\n",
       "    }\n",
       "</style>\n",
       "<table border=\"1\" class=\"dataframe\">\n",
       "  <thead>\n",
       "    <tr style=\"text-align: right;\">\n",
       "      <th></th>\n",
       "      <th>index</th>\n",
       "      <th>property_type</th>\n",
       "      <th>place_name</th>\n",
       "      <th>place_with_parent_names</th>\n",
       "      <th>state_name</th>\n",
       "      <th>lat</th>\n",
       "      <th>lon</th>\n",
       "      <th>price</th>\n",
       "      <th>surface_total_in_m2</th>\n",
       "      <th>surface_covered_in_m2</th>\n",
       "      <th>...</th>\n",
       "      <th>properati_url</th>\n",
       "      <th>description</th>\n",
       "      <th>title</th>\n",
       "      <th>ciudad</th>\n",
       "      <th>Tiene_Patio</th>\n",
       "      <th>Es_Emprendimiento</th>\n",
       "      <th>Cantidad_Baños</th>\n",
       "      <th>price_usd_per_m2_aprox</th>\n",
       "      <th>geometry</th>\n",
       "      <th>distancias_al_rio</th>\n",
       "    </tr>\n",
       "  </thead>\n",
       "  <tbody>\n",
       "    <tr>\n",
       "      <th>1</th>\n",
       "      <td>6</td>\n",
       "      <td>PH</td>\n",
       "      <td>Munro</td>\n",
       "      <td>|Argentina|Bs.As. G.B.A. Zona Norte|Vicente Ló...</td>\n",
       "      <td>Bs.As. G.B.A. Zona Norte</td>\n",
       "      <td>-34.532957</td>\n",
       "      <td>-58.521782</td>\n",
       "      <td>130000.0</td>\n",
       "      <td>106.0</td>\n",
       "      <td>78.0</td>\n",
       "      <td>...</td>\n",
       "      <td>http://www.properati.com.ar/15bor_venta_ph_mun...</td>\n",
       "      <td>MUY BUEN PH AL FRENTE CON ENTRADA INDEPENDIENT...</td>\n",
       "      <td>MUY BUEN PH AL FRENTE DOS DORMITORIOS , PATIO,...</td>\n",
       "      <td>Vicente López</td>\n",
       "      <td>1</td>\n",
       "      <td>0</td>\n",
       "      <td>1</td>\n",
       "      <td>1226.415094</td>\n",
       "      <td>POINT (-58.52178 -34.53296)</td>\n",
       "      <td>4832.377040</td>\n",
       "    </tr>\n",
       "    <tr>\n",
       "      <th>2</th>\n",
       "      <td>7</td>\n",
       "      <td>apartment</td>\n",
       "      <td>Belgrano</td>\n",
       "      <td>|Argentina|Capital Federal|Belgrano|</td>\n",
       "      <td>Capital Federal</td>\n",
       "      <td>-34.559873</td>\n",
       "      <td>-58.443362</td>\n",
       "      <td>138000.0</td>\n",
       "      <td>45.0</td>\n",
       "      <td>40.0</td>\n",
       "      <td>...</td>\n",
       "      <td>http://www.properati.com.ar/15bot_venta_depart...</td>\n",
       "      <td>EXCELENTE MONOAMBIENTE A ESTRENAR AMPLIO SUPER...</td>\n",
       "      <td>JOSE HERNANDEZ 1400 MONOAMBIENTE  ESTRENAR CAT...</td>\n",
       "      <td>Belgrano</td>\n",
       "      <td>0</td>\n",
       "      <td>0</td>\n",
       "      <td>1</td>\n",
       "      <td>3066.666667</td>\n",
       "      <td>POINT (-58.44336 -34.55987)</td>\n",
       "      <td>1518.575258</td>\n",
       "    </tr>\n",
       "    <tr>\n",
       "      <th>3</th>\n",
       "      <td>8</td>\n",
       "      <td>apartment</td>\n",
       "      <td>Belgrano</td>\n",
       "      <td>|Argentina|Capital Federal|Belgrano|</td>\n",
       "      <td>Capital Federal</td>\n",
       "      <td>-34.559873</td>\n",
       "      <td>-58.443362</td>\n",
       "      <td>195000.0</td>\n",
       "      <td>65.0</td>\n",
       "      <td>60.0</td>\n",
       "      <td>...</td>\n",
       "      <td>http://www.properati.com.ar/15bou_venta_depart...</td>\n",
       "      <td>EXCELENTE DOS AMBIENTES  ESTRENAR AMPLIO SUPER...</td>\n",
       "      <td>JOSE HERNANDEZ   1400 DOS AMBIENTES ESTRENAR ,...</td>\n",
       "      <td>Belgrano</td>\n",
       "      <td>0</td>\n",
       "      <td>0</td>\n",
       "      <td>1</td>\n",
       "      <td>3000.000000</td>\n",
       "      <td>POINT (-58.44336 -34.55987)</td>\n",
       "      <td>1518.575258</td>\n",
       "    </tr>\n",
       "  </tbody>\n",
       "</table>\n",
       "<p>3 rows × 25 columns</p>\n",
       "</div>"
      ],
      "text/plain": [
       "   index property_type place_name  \\\n",
       "1      6            PH      Munro   \n",
       "2      7     apartment   Belgrano   \n",
       "3      8     apartment   Belgrano   \n",
       "\n",
       "                             place_with_parent_names  \\\n",
       "1  |Argentina|Bs.As. G.B.A. Zona Norte|Vicente Ló...   \n",
       "2               |Argentina|Capital Federal|Belgrano|   \n",
       "3               |Argentina|Capital Federal|Belgrano|   \n",
       "\n",
       "                 state_name        lat        lon     price  \\\n",
       "1  Bs.As. G.B.A. Zona Norte -34.532957 -58.521782  130000.0   \n",
       "2           Capital Federal -34.559873 -58.443362  138000.0   \n",
       "3           Capital Federal -34.559873 -58.443362  195000.0   \n",
       "\n",
       "   surface_total_in_m2  surface_covered_in_m2  ...  \\\n",
       "1                106.0                   78.0  ...   \n",
       "2                 45.0                   40.0  ...   \n",
       "3                 65.0                   60.0  ...   \n",
       "\n",
       "                                       properati_url  \\\n",
       "1  http://www.properati.com.ar/15bor_venta_ph_mun...   \n",
       "2  http://www.properati.com.ar/15bot_venta_depart...   \n",
       "3  http://www.properati.com.ar/15bou_venta_depart...   \n",
       "\n",
       "                                         description  \\\n",
       "1  MUY BUEN PH AL FRENTE CON ENTRADA INDEPENDIENT...   \n",
       "2  EXCELENTE MONOAMBIENTE A ESTRENAR AMPLIO SUPER...   \n",
       "3  EXCELENTE DOS AMBIENTES  ESTRENAR AMPLIO SUPER...   \n",
       "\n",
       "                                               title         ciudad  \\\n",
       "1  MUY BUEN PH AL FRENTE DOS DORMITORIOS , PATIO,...  Vicente López   \n",
       "2  JOSE HERNANDEZ 1400 MONOAMBIENTE  ESTRENAR CAT...       Belgrano   \n",
       "3  JOSE HERNANDEZ   1400 DOS AMBIENTES ESTRENAR ,...       Belgrano   \n",
       "\n",
       "   Tiene_Patio Es_Emprendimiento Cantidad_Baños price_usd_per_m2_aprox  \\\n",
       "1            1                 0              1            1226.415094   \n",
       "2            0                 0              1            3066.666667   \n",
       "3            0                 0              1            3000.000000   \n",
       "\n",
       "                      geometry  distancias_al_rio  \n",
       "1  POINT (-58.52178 -34.53296)        4832.377040  \n",
       "2  POINT (-58.44336 -34.55987)        1518.575258  \n",
       "3  POINT (-58.44336 -34.55987)        1518.575258  \n",
       "\n",
       "[3 rows x 25 columns]"
      ]
     },
     "execution_count": 38,
     "metadata": {},
     "output_type": "execute_result"
    }
   ],
   "source": [
    "data[\"distancias_al_rio\"] = distancias\n",
    "data.head(3)"
   ]
  },
  {
   "cell_type": "markdown",
   "id": "63c6032f",
   "metadata": {
    "tags": []
   },
   "source": [
    "---\n",
    "## Valores Nulos"
   ]
  },
  {
   "cell_type": "markdown",
   "id": "07d2eb84-4ac2-4bda-bd54-26832923fae8",
   "metadata": {},
   "source": [
    "Vemos que quedaron unos place_name nulos, pero son todos de \"Tigre\", así que los imputamos facilmente de la columna ciudad que habíamos obtenido de place_with_parent_names con la siguiente función:"
   ]
  },
  {
   "cell_type": "code",
   "execution_count": 39,
   "id": "cb2c4790-3c94-4162-b2c3-d0c8744a2981",
   "metadata": {},
   "outputs": [],
   "source": [
    "def get_city_name(value):\n",
    "    parts = value.split(\"|\")\n",
    "    if len(parts) == 4:\n",
    "        result = parts[2]\n",
    "    else:\n",
    "        result = parts[3]\n",
    "    return result"
   ]
  },
  {
   "cell_type": "code",
   "execution_count": 40,
   "id": "191bdef4-9541-4814-9ea7-537909dfd022",
   "metadata": {},
   "outputs": [
    {
     "data": {
      "text/plain": [
       "19"
      ]
     },
     "execution_count": 40,
     "metadata": {},
     "output_type": "execute_result"
    }
   ],
   "source": [
    "data.place_name.isnull().sum()"
   ]
  },
  {
   "cell_type": "code",
   "execution_count": 41,
   "id": "7b0d9de0-90c7-4e4b-9942-1d36fbcc2ab8",
   "metadata": {},
   "outputs": [
    {
     "data": {
      "text/html": [
       "<div>\n",
       "<style scoped>\n",
       "    .dataframe tbody tr th:only-of-type {\n",
       "        vertical-align: middle;\n",
       "    }\n",
       "\n",
       "    .dataframe tbody tr th {\n",
       "        vertical-align: top;\n",
       "    }\n",
       "\n",
       "    .dataframe thead th {\n",
       "        text-align: right;\n",
       "    }\n",
       "</style>\n",
       "<table border=\"1\" class=\"dataframe\">\n",
       "  <thead>\n",
       "    <tr style=\"text-align: right;\">\n",
       "      <th></th>\n",
       "      <th>place_name</th>\n",
       "      <th>place_with_parent_names</th>\n",
       "      <th>ciudad</th>\n",
       "    </tr>\n",
       "  </thead>\n",
       "  <tbody>\n",
       "    <tr>\n",
       "      <th>3599</th>\n",
       "      <td>NaN</td>\n",
       "      <td>|Argentina|Bs.As. G.B.A. Zona Norte|Tigre||</td>\n",
       "      <td>Tigre</td>\n",
       "    </tr>\n",
       "    <tr>\n",
       "      <th>5421</th>\n",
       "      <td>NaN</td>\n",
       "      <td>|Argentina|Bs.As. G.B.A. Zona Norte|Tigre||</td>\n",
       "      <td>Tigre</td>\n",
       "    </tr>\n",
       "    <tr>\n",
       "      <th>5957</th>\n",
       "      <td>NaN</td>\n",
       "      <td>|Argentina|Bs.As. G.B.A. Zona Norte|Tigre||</td>\n",
       "      <td>Tigre</td>\n",
       "    </tr>\n",
       "    <tr>\n",
       "      <th>7606</th>\n",
       "      <td>NaN</td>\n",
       "      <td>|Argentina|Bs.As. G.B.A. Zona Norte|Tigre||</td>\n",
       "      <td>Tigre</td>\n",
       "    </tr>\n",
       "    <tr>\n",
       "      <th>9397</th>\n",
       "      <td>NaN</td>\n",
       "      <td>|Argentina|Bs.As. G.B.A. Zona Norte|Tigre||</td>\n",
       "      <td>Tigre</td>\n",
       "    </tr>\n",
       "    <tr>\n",
       "      <th>11885</th>\n",
       "      <td>NaN</td>\n",
       "      <td>|Argentina|Bs.As. G.B.A. Zona Norte|Tigre||</td>\n",
       "      <td>Tigre</td>\n",
       "    </tr>\n",
       "    <tr>\n",
       "      <th>12313</th>\n",
       "      <td>NaN</td>\n",
       "      <td>|Argentina|Bs.As. G.B.A. Zona Norte|Tigre||</td>\n",
       "      <td>Tigre</td>\n",
       "    </tr>\n",
       "    <tr>\n",
       "      <th>22326</th>\n",
       "      <td>NaN</td>\n",
       "      <td>|Argentina|Bs.As. G.B.A. Zona Norte|Tigre||</td>\n",
       "      <td>Tigre</td>\n",
       "    </tr>\n",
       "    <tr>\n",
       "      <th>26015</th>\n",
       "      <td>NaN</td>\n",
       "      <td>|Argentina|Bs.As. G.B.A. Zona Norte|Tigre||</td>\n",
       "      <td>Tigre</td>\n",
       "    </tr>\n",
       "    <tr>\n",
       "      <th>27198</th>\n",
       "      <td>NaN</td>\n",
       "      <td>|Argentina|Bs.As. G.B.A. Zona Norte|Tigre||</td>\n",
       "      <td>Tigre</td>\n",
       "    </tr>\n",
       "    <tr>\n",
       "      <th>28464</th>\n",
       "      <td>NaN</td>\n",
       "      <td>|Argentina|Bs.As. G.B.A. Zona Norte|Tigre||</td>\n",
       "      <td>Tigre</td>\n",
       "    </tr>\n",
       "    <tr>\n",
       "      <th>28496</th>\n",
       "      <td>NaN</td>\n",
       "      <td>|Argentina|Bs.As. G.B.A. Zona Norte|Tigre||</td>\n",
       "      <td>Tigre</td>\n",
       "    </tr>\n",
       "    <tr>\n",
       "      <th>28499</th>\n",
       "      <td>NaN</td>\n",
       "      <td>|Argentina|Bs.As. G.B.A. Zona Norte|Tigre||</td>\n",
       "      <td>Tigre</td>\n",
       "    </tr>\n",
       "    <tr>\n",
       "      <th>28517</th>\n",
       "      <td>NaN</td>\n",
       "      <td>|Argentina|Bs.As. G.B.A. Zona Norte|Tigre||</td>\n",
       "      <td>Tigre</td>\n",
       "    </tr>\n",
       "    <tr>\n",
       "      <th>28659</th>\n",
       "      <td>NaN</td>\n",
       "      <td>|Argentina|Bs.As. G.B.A. Zona Norte|Tigre||</td>\n",
       "      <td>Tigre</td>\n",
       "    </tr>\n",
       "    <tr>\n",
       "      <th>28687</th>\n",
       "      <td>NaN</td>\n",
       "      <td>|Argentina|Bs.As. G.B.A. Zona Norte|Tigre||</td>\n",
       "      <td>Tigre</td>\n",
       "    </tr>\n",
       "    <tr>\n",
       "      <th>30761</th>\n",
       "      <td>NaN</td>\n",
       "      <td>|Argentina|Bs.As. G.B.A. Zona Norte|Tigre||</td>\n",
       "      <td>Tigre</td>\n",
       "    </tr>\n",
       "    <tr>\n",
       "      <th>30763</th>\n",
       "      <td>NaN</td>\n",
       "      <td>|Argentina|Bs.As. G.B.A. Zona Norte|Tigre||</td>\n",
       "      <td>Tigre</td>\n",
       "    </tr>\n",
       "    <tr>\n",
       "      <th>31392</th>\n",
       "      <td>NaN</td>\n",
       "      <td>|Argentina|Bs.As. G.B.A. Zona Norte|Tigre||</td>\n",
       "      <td>Tigre</td>\n",
       "    </tr>\n",
       "  </tbody>\n",
       "</table>\n",
       "</div>"
      ],
      "text/plain": [
       "      place_name                      place_with_parent_names ciudad\n",
       "3599         NaN  |Argentina|Bs.As. G.B.A. Zona Norte|Tigre||  Tigre\n",
       "5421         NaN  |Argentina|Bs.As. G.B.A. Zona Norte|Tigre||  Tigre\n",
       "5957         NaN  |Argentina|Bs.As. G.B.A. Zona Norte|Tigre||  Tigre\n",
       "7606         NaN  |Argentina|Bs.As. G.B.A. Zona Norte|Tigre||  Tigre\n",
       "9397         NaN  |Argentina|Bs.As. G.B.A. Zona Norte|Tigre||  Tigre\n",
       "11885        NaN  |Argentina|Bs.As. G.B.A. Zona Norte|Tigre||  Tigre\n",
       "12313        NaN  |Argentina|Bs.As. G.B.A. Zona Norte|Tigre||  Tigre\n",
       "22326        NaN  |Argentina|Bs.As. G.B.A. Zona Norte|Tigre||  Tigre\n",
       "26015        NaN  |Argentina|Bs.As. G.B.A. Zona Norte|Tigre||  Tigre\n",
       "27198        NaN  |Argentina|Bs.As. G.B.A. Zona Norte|Tigre||  Tigre\n",
       "28464        NaN  |Argentina|Bs.As. G.B.A. Zona Norte|Tigre||  Tigre\n",
       "28496        NaN  |Argentina|Bs.As. G.B.A. Zona Norte|Tigre||  Tigre\n",
       "28499        NaN  |Argentina|Bs.As. G.B.A. Zona Norte|Tigre||  Tigre\n",
       "28517        NaN  |Argentina|Bs.As. G.B.A. Zona Norte|Tigre||  Tigre\n",
       "28659        NaN  |Argentina|Bs.As. G.B.A. Zona Norte|Tigre||  Tigre\n",
       "28687        NaN  |Argentina|Bs.As. G.B.A. Zona Norte|Tigre||  Tigre\n",
       "30761        NaN  |Argentina|Bs.As. G.B.A. Zona Norte|Tigre||  Tigre\n",
       "30763        NaN  |Argentina|Bs.As. G.B.A. Zona Norte|Tigre||  Tigre\n",
       "31392        NaN  |Argentina|Bs.As. G.B.A. Zona Norte|Tigre||  Tigre"
      ]
     },
     "execution_count": 41,
     "metadata": {},
     "output_type": "execute_result"
    }
   ],
   "source": [
    "mask = data.place_name.isnull()\n",
    "place_null = data[mask]\n",
    "place_null[[\"place_name\", \"place_with_parent_names\", \"ciudad\"]] "
   ]
  },
  {
   "cell_type": "code",
   "execution_count": 42,
   "id": "181be85a-3216-4849-8a30-53f8d25fc412",
   "metadata": {},
   "outputs": [],
   "source": [
    "data.place_name.fillna(data.ciudad, inplace = True)"
   ]
  },
  {
   "cell_type": "markdown",
   "id": "ff131b49",
   "metadata": {},
   "source": [
    "#### Superficie cubierta\n",
    "Hacemos un conteo de los valores nulos en la columna de superficie cubierta en metros cuadrados"
   ]
  },
  {
   "cell_type": "code",
   "execution_count": 43,
   "id": "4a53b255",
   "metadata": {},
   "outputs": [
    {
     "name": "stdout",
     "output_type": "stream",
     "text": [
      "Cantidad total de valores nulos para las superficies cubiertas x m2: 974  valores\n",
      "Porcentaje de valores nulos para las superficies cubiertas x m2: 6.0 %\n"
     ]
    }
   ],
   "source": [
    "total_nulos_surface_covered_m2 = data.surface_covered_in_m2.isna().sum()\n",
    "porcentaje_nulos_surface_covered_m2 = (data.surface_covered_in_m2.isna().sum() / len(data) * 100).round(0)\n",
    "\n",
    "print(\"Cantidad total de valores nulos para las superficies cubiertas x m2:\", total_nulos_surface_covered_m2, \" valores\")\n",
    "print(\"Porcentaje de valores nulos para las superficies cubiertas x m2:\", porcentaje_nulos_surface_covered_m2, \"%\")"
   ]
  },
  {
   "cell_type": "markdown",
   "id": "dedb6cef",
   "metadata": {},
   "source": [
    "Vamos a hacer una imputación de los pocos valores que faltan (6%) basándonos en el porcentaje de superficie cubierta vs superficie total, agrupando por tipo de propiedad, ya que es de esperarse que un departamento tenga una superficie cubierta mas aproximada a la superficie total."
   ]
  },
  {
   "cell_type": "markdown",
   "id": "b7a5bca1-20dd-4fb9-a515-e5eb52dcc0b3",
   "metadata": {},
   "source": [
    "Porcentajes de superficies cubiertas:"
   ]
  },
  {
   "cell_type": "code",
   "execution_count": 44,
   "id": "f4c23899-5a5d-429c-9e08-b09bea76c2fb",
   "metadata": {},
   "outputs": [
    {
     "data": {
      "text/plain": [
       "1    0.735849\n",
       "2    0.888889\n",
       "3    0.923077\n",
       "Name: por_sup_cub, dtype: float64"
      ]
     },
     "execution_count": 44,
     "metadata": {},
     "output_type": "execute_result"
    }
   ],
   "source": [
    "data.loc[:,\"por_sup_cub\"] = data.surface_covered_in_m2 / data.surface_total_in_m2\n",
    "data.loc[:,\"por_sup_cub\"].head(3)"
   ]
  },
  {
   "cell_type": "markdown",
   "id": "2bffb022-0cfd-477c-80c5-22ae90864766",
   "metadata": {},
   "source": [
    "Agrupamos por property_type"
   ]
  },
  {
   "cell_type": "code",
   "execution_count": 45,
   "id": "0b95b518-f19f-4732-aaf6-80c75d5be4d4",
   "metadata": {},
   "outputs": [
    {
     "name": "stdout",
     "output_type": "stream",
     "text": [
      "Index(['PH', 'apartment', 'house', 'store'], dtype='object', name='property_type')\n",
      "[0.75647241 0.88302921 0.66665966 0.8777688 ]\n"
     ]
    }
   ],
   "source": [
    "fill_values = data.groupby(\"property_type\").por_sup_cub.mean()\n",
    "print(fill_values.index)\n",
    "print(fill_values.values)"
   ]
  },
  {
   "cell_type": "markdown",
   "id": "a81dd124-595c-4d0d-ab95-e940477eca87",
   "metadata": {},
   "source": [
    "Generamos el DataFrame"
   ]
  },
  {
   "cell_type": "code",
   "execution_count": 46,
   "id": "52862022-55e5-4c0e-90d8-ff42874210a2",
   "metadata": {},
   "outputs": [
    {
     "data": {
      "text/html": [
       "<div>\n",
       "<style scoped>\n",
       "    .dataframe tbody tr th:only-of-type {\n",
       "        vertical-align: middle;\n",
       "    }\n",
       "\n",
       "    .dataframe tbody tr th {\n",
       "        vertical-align: top;\n",
       "    }\n",
       "\n",
       "    .dataframe thead th {\n",
       "        text-align: right;\n",
       "    }\n",
       "</style>\n",
       "<table border=\"1\" class=\"dataframe\">\n",
       "  <thead>\n",
       "    <tr style=\"text-align: right;\">\n",
       "      <th></th>\n",
       "      <th>property_type</th>\n",
       "      <th>por_sup_cub</th>\n",
       "    </tr>\n",
       "  </thead>\n",
       "  <tbody>\n",
       "    <tr>\n",
       "      <th>0</th>\n",
       "      <td>PH</td>\n",
       "      <td>0.756472</td>\n",
       "    </tr>\n",
       "    <tr>\n",
       "      <th>1</th>\n",
       "      <td>apartment</td>\n",
       "      <td>0.883029</td>\n",
       "    </tr>\n",
       "    <tr>\n",
       "      <th>2</th>\n",
       "      <td>house</td>\n",
       "      <td>0.666660</td>\n",
       "    </tr>\n",
       "    <tr>\n",
       "      <th>3</th>\n",
       "      <td>store</td>\n",
       "      <td>0.877769</td>\n",
       "    </tr>\n",
       "  </tbody>\n",
       "</table>\n",
       "</div>"
      ],
      "text/plain": [
       "  property_type  por_sup_cub\n",
       "0            PH     0.756472\n",
       "1     apartment     0.883029\n",
       "2         house     0.666660\n",
       "3         store     0.877769"
      ]
     },
     "execution_count": 46,
     "metadata": {},
     "output_type": "execute_result"
    }
   ],
   "source": [
    "fill_values_df = pd.DataFrame(fill_values)\n",
    "fill_values_df.reset_index(inplace=True)\n",
    "fill_values_df.head(5)"
   ]
  },
  {
   "cell_type": "markdown",
   "id": "bccb82a7-774a-41cf-9eed-830343b78157",
   "metadata": {},
   "source": [
    "Podemos apreciar que los departamentos tienen en promedio un 88% de superficie cubierta contra un 66% de las casas."
   ]
  },
  {
   "cell_type": "markdown",
   "id": "17559321-6f49-4fc7-814f-5df0dc6662f3",
   "metadata": {},
   "source": [
    "Concatenamos la nueva columna con los promedios."
   ]
  },
  {
   "cell_type": "code",
   "execution_count": 47,
   "id": "56a5e946-6ec6-4c8a-b463-57c8ceb69f09",
   "metadata": {},
   "outputs": [
    {
     "data": {
      "text/html": [
       "<div>\n",
       "<style scoped>\n",
       "    .dataframe tbody tr th:only-of-type {\n",
       "        vertical-align: middle;\n",
       "    }\n",
       "\n",
       "    .dataframe tbody tr th {\n",
       "        vertical-align: top;\n",
       "    }\n",
       "\n",
       "    .dataframe thead th {\n",
       "        text-align: right;\n",
       "    }\n",
       "</style>\n",
       "<table border=\"1\" class=\"dataframe\">\n",
       "  <thead>\n",
       "    <tr style=\"text-align: right;\">\n",
       "      <th></th>\n",
       "      <th>index</th>\n",
       "      <th>property_type</th>\n",
       "      <th>place_name</th>\n",
       "      <th>place_with_parent_names</th>\n",
       "      <th>state_name</th>\n",
       "      <th>lat</th>\n",
       "      <th>lon</th>\n",
       "      <th>price</th>\n",
       "      <th>surface_total_in_m2</th>\n",
       "      <th>surface_covered_in_m2</th>\n",
       "      <th>...</th>\n",
       "      <th>title</th>\n",
       "      <th>ciudad</th>\n",
       "      <th>Tiene_Patio</th>\n",
       "      <th>Es_Emprendimiento</th>\n",
       "      <th>Cantidad_Baños</th>\n",
       "      <th>price_usd_per_m2_aprox</th>\n",
       "      <th>geometry</th>\n",
       "      <th>distancias_al_rio</th>\n",
       "      <th>por_sup_cub</th>\n",
       "      <th>por_sup_cub_mean</th>\n",
       "    </tr>\n",
       "  </thead>\n",
       "  <tbody>\n",
       "    <tr>\n",
       "      <th>0</th>\n",
       "      <td>6</td>\n",
       "      <td>PH</td>\n",
       "      <td>Munro</td>\n",
       "      <td>|Argentina|Bs.As. G.B.A. Zona Norte|Vicente Ló...</td>\n",
       "      <td>Bs.As. G.B.A. Zona Norte</td>\n",
       "      <td>-34.532957</td>\n",
       "      <td>-58.521782</td>\n",
       "      <td>130000.0</td>\n",
       "      <td>106.0</td>\n",
       "      <td>78.0</td>\n",
       "      <td>...</td>\n",
       "      <td>MUY BUEN PH AL FRENTE DOS DORMITORIOS , PATIO,...</td>\n",
       "      <td>Vicente López</td>\n",
       "      <td>1</td>\n",
       "      <td>0</td>\n",
       "      <td>1</td>\n",
       "      <td>1226.415094</td>\n",
       "      <td>POINT (-58.52178 -34.53296)</td>\n",
       "      <td>4832.377040</td>\n",
       "      <td>0.735849</td>\n",
       "      <td>0.756472</td>\n",
       "    </tr>\n",
       "    <tr>\n",
       "      <th>1</th>\n",
       "      <td>7</td>\n",
       "      <td>apartment</td>\n",
       "      <td>Belgrano</td>\n",
       "      <td>|Argentina|Capital Federal|Belgrano|</td>\n",
       "      <td>Capital Federal</td>\n",
       "      <td>-34.559873</td>\n",
       "      <td>-58.443362</td>\n",
       "      <td>138000.0</td>\n",
       "      <td>45.0</td>\n",
       "      <td>40.0</td>\n",
       "      <td>...</td>\n",
       "      <td>JOSE HERNANDEZ 1400 MONOAMBIENTE  ESTRENAR CAT...</td>\n",
       "      <td>Belgrano</td>\n",
       "      <td>0</td>\n",
       "      <td>0</td>\n",
       "      <td>1</td>\n",
       "      <td>3066.666667</td>\n",
       "      <td>POINT (-58.44336 -34.55987)</td>\n",
       "      <td>1518.575258</td>\n",
       "      <td>0.888889</td>\n",
       "      <td>0.883029</td>\n",
       "    </tr>\n",
       "    <tr>\n",
       "      <th>2</th>\n",
       "      <td>8</td>\n",
       "      <td>apartment</td>\n",
       "      <td>Belgrano</td>\n",
       "      <td>|Argentina|Capital Federal|Belgrano|</td>\n",
       "      <td>Capital Federal</td>\n",
       "      <td>-34.559873</td>\n",
       "      <td>-58.443362</td>\n",
       "      <td>195000.0</td>\n",
       "      <td>65.0</td>\n",
       "      <td>60.0</td>\n",
       "      <td>...</td>\n",
       "      <td>JOSE HERNANDEZ   1400 DOS AMBIENTES ESTRENAR ,...</td>\n",
       "      <td>Belgrano</td>\n",
       "      <td>0</td>\n",
       "      <td>0</td>\n",
       "      <td>1</td>\n",
       "      <td>3000.000000</td>\n",
       "      <td>POINT (-58.44336 -34.55987)</td>\n",
       "      <td>1518.575258</td>\n",
       "      <td>0.923077</td>\n",
       "      <td>0.883029</td>\n",
       "    </tr>\n",
       "    <tr>\n",
       "      <th>3</th>\n",
       "      <td>12</td>\n",
       "      <td>apartment</td>\n",
       "      <td>Martínez</td>\n",
       "      <td>|Argentina|Bs.As. G.B.A. Zona Norte|San Isidro...</td>\n",
       "      <td>Bs.As. G.B.A. Zona Norte</td>\n",
       "      <td>-34.486019</td>\n",
       "      <td>-58.503814</td>\n",
       "      <td>115000.0</td>\n",
       "      <td>39.0</td>\n",
       "      <td>36.0</td>\n",
       "      <td>...</td>\n",
       "      <td>EXCELENTE DEPARTAMENTO 2 AMBIENTES CONTRAFRENT...</td>\n",
       "      <td>San Isidro</td>\n",
       "      <td>0</td>\n",
       "      <td>0</td>\n",
       "      <td>1</td>\n",
       "      <td>2948.717949</td>\n",
       "      <td>POINT (-58.50381 -34.48602)</td>\n",
       "      <td>1639.803133</td>\n",
       "      <td>0.923077</td>\n",
       "      <td>0.883029</td>\n",
       "    </tr>\n",
       "    <tr>\n",
       "      <th>4</th>\n",
       "      <td>15</td>\n",
       "      <td>house</td>\n",
       "      <td>Bella Vista</td>\n",
       "      <td>|Argentina|Bs.As. G.B.A. Zona Norte|San Miguel...</td>\n",
       "      <td>Bs.As. G.B.A. Zona Norte</td>\n",
       "      <td>-34.587911</td>\n",
       "      <td>-58.698783</td>\n",
       "      <td>250000.0</td>\n",
       "      <td>164.0</td>\n",
       "      <td>NaN</td>\n",
       "      <td>...</td>\n",
       "      <td>HAUS VILLAGE / BELLA VISTA / 115m² MAS PATIO /...</td>\n",
       "      <td>San Miguel</td>\n",
       "      <td>1</td>\n",
       "      <td>0</td>\n",
       "      <td>1</td>\n",
       "      <td>1524.390244</td>\n",
       "      <td>POINT (-58.69878 -34.58791)</td>\n",
       "      <td>19345.651819</td>\n",
       "      <td>NaN</td>\n",
       "      <td>0.666660</td>\n",
       "    </tr>\n",
       "  </tbody>\n",
       "</table>\n",
       "<p>5 rows × 27 columns</p>\n",
       "</div>"
      ],
      "text/plain": [
       "   index property_type   place_name  \\\n",
       "0      6            PH        Munro   \n",
       "1      7     apartment     Belgrano   \n",
       "2      8     apartment     Belgrano   \n",
       "3     12     apartment     Martínez   \n",
       "4     15         house  Bella Vista   \n",
       "\n",
       "                             place_with_parent_names  \\\n",
       "0  |Argentina|Bs.As. G.B.A. Zona Norte|Vicente Ló...   \n",
       "1               |Argentina|Capital Federal|Belgrano|   \n",
       "2               |Argentina|Capital Federal|Belgrano|   \n",
       "3  |Argentina|Bs.As. G.B.A. Zona Norte|San Isidro...   \n",
       "4  |Argentina|Bs.As. G.B.A. Zona Norte|San Miguel...   \n",
       "\n",
       "                 state_name        lat        lon     price  \\\n",
       "0  Bs.As. G.B.A. Zona Norte -34.532957 -58.521782  130000.0   \n",
       "1           Capital Federal -34.559873 -58.443362  138000.0   \n",
       "2           Capital Federal -34.559873 -58.443362  195000.0   \n",
       "3  Bs.As. G.B.A. Zona Norte -34.486019 -58.503814  115000.0   \n",
       "4  Bs.As. G.B.A. Zona Norte -34.587911 -58.698783  250000.0   \n",
       "\n",
       "   surface_total_in_m2  surface_covered_in_m2  ...  \\\n",
       "0                106.0                   78.0  ...   \n",
       "1                 45.0                   40.0  ...   \n",
       "2                 65.0                   60.0  ...   \n",
       "3                 39.0                   36.0  ...   \n",
       "4                164.0                    NaN  ...   \n",
       "\n",
       "                                               title         ciudad  \\\n",
       "0  MUY BUEN PH AL FRENTE DOS DORMITORIOS , PATIO,...  Vicente López   \n",
       "1  JOSE HERNANDEZ 1400 MONOAMBIENTE  ESTRENAR CAT...       Belgrano   \n",
       "2  JOSE HERNANDEZ   1400 DOS AMBIENTES ESTRENAR ,...       Belgrano   \n",
       "3  EXCELENTE DEPARTAMENTO 2 AMBIENTES CONTRAFRENT...     San Isidro   \n",
       "4  HAUS VILLAGE / BELLA VISTA / 115m² MAS PATIO /...     San Miguel   \n",
       "\n",
       "   Tiene_Patio  Es_Emprendimiento  Cantidad_Baños price_usd_per_m2_aprox  \\\n",
       "0            1                  0               1            1226.415094   \n",
       "1            0                  0               1            3066.666667   \n",
       "2            0                  0               1            3000.000000   \n",
       "3            0                  0               1            2948.717949   \n",
       "4            1                  0               1            1524.390244   \n",
       "\n",
       "                      geometry distancias_al_rio por_sup_cub  por_sup_cub_mean  \n",
       "0  POINT (-58.52178 -34.53296)       4832.377040    0.735849          0.756472  \n",
       "1  POINT (-58.44336 -34.55987)       1518.575258    0.888889          0.883029  \n",
       "2  POINT (-58.44336 -34.55987)       1518.575258    0.923077          0.883029  \n",
       "3  POINT (-58.50381 -34.48602)       1639.803133    0.923077          0.883029  \n",
       "4  POINT (-58.69878 -34.58791)      19345.651819         NaN          0.666660  \n",
       "\n",
       "[5 rows x 27 columns]"
      ]
     },
     "execution_count": 47,
     "metadata": {},
     "output_type": "execute_result"
    }
   ],
   "source": [
    "data = data.merge(fill_values_df, on = \"property_type\", suffixes = (\"\", \"_mean\"), how = 'left')\n",
    "data.head(5)"
   ]
  },
  {
   "cell_type": "markdown",
   "id": "dd7ac3ce-a18a-4e52-9731-ae8621035ad4",
   "metadata": {},
   "source": [
    "Pequeña comparación de las superficies imputadas con respecto a las verdaderas"
   ]
  },
  {
   "cell_type": "code",
   "execution_count": 48,
   "id": "1c419b1e-60cc-4b9f-9b02-ae6717b5ec21",
   "metadata": {},
   "outputs": [
    {
     "data": {
      "text/html": [
       "<div>\n",
       "<style scoped>\n",
       "    .dataframe tbody tr th:only-of-type {\n",
       "        vertical-align: middle;\n",
       "    }\n",
       "\n",
       "    .dataframe tbody tr th {\n",
       "        vertical-align: top;\n",
       "    }\n",
       "\n",
       "    .dataframe thead th {\n",
       "        text-align: right;\n",
       "    }\n",
       "</style>\n",
       "<table border=\"1\" class=\"dataframe\">\n",
       "  <thead>\n",
       "    <tr style=\"text-align: right;\">\n",
       "      <th></th>\n",
       "      <th>property_type</th>\n",
       "      <th>surface_total_in_m2</th>\n",
       "      <th>surface_covered_in_m2</th>\n",
       "      <th>sup_cov_calculada</th>\n",
       "    </tr>\n",
       "  </thead>\n",
       "  <tbody>\n",
       "    <tr>\n",
       "      <th>0</th>\n",
       "      <td>PH</td>\n",
       "      <td>106.0</td>\n",
       "      <td>78.0</td>\n",
       "      <td>80.186076</td>\n",
       "    </tr>\n",
       "    <tr>\n",
       "      <th>1</th>\n",
       "      <td>apartment</td>\n",
       "      <td>45.0</td>\n",
       "      <td>40.0</td>\n",
       "      <td>39.736314</td>\n",
       "    </tr>\n",
       "    <tr>\n",
       "      <th>2</th>\n",
       "      <td>apartment</td>\n",
       "      <td>65.0</td>\n",
       "      <td>60.0</td>\n",
       "      <td>57.396898</td>\n",
       "    </tr>\n",
       "    <tr>\n",
       "      <th>3</th>\n",
       "      <td>apartment</td>\n",
       "      <td>39.0</td>\n",
       "      <td>36.0</td>\n",
       "      <td>34.438139</td>\n",
       "    </tr>\n",
       "    <tr>\n",
       "      <th>4</th>\n",
       "      <td>house</td>\n",
       "      <td>164.0</td>\n",
       "      <td>NaN</td>\n",
       "      <td>109.332185</td>\n",
       "    </tr>\n",
       "  </tbody>\n",
       "</table>\n",
       "</div>"
      ],
      "text/plain": [
       "  property_type  surface_total_in_m2  surface_covered_in_m2  sup_cov_calculada\n",
       "0            PH                106.0                   78.0          80.186076\n",
       "1     apartment                 45.0                   40.0          39.736314\n",
       "2     apartment                 65.0                   60.0          57.396898\n",
       "3     apartment                 39.0                   36.0          34.438139\n",
       "4         house                164.0                    NaN         109.332185"
      ]
     },
     "execution_count": 48,
     "metadata": {},
     "output_type": "execute_result"
    }
   ],
   "source": [
    "data[\"sup_cov_calculada\"] = data.por_sup_cub_mean * data.surface_total_in_m2\n",
    "data.loc[:, [\"property_type\", \"surface_total_in_m2\", \"surface_covered_in_m2\", \"sup_cov_calculada\"]].head()"
   ]
  },
  {
   "cell_type": "markdown",
   "id": "16ec8e76-68ac-4391-8686-f9084dd5e8ba",
   "metadata": {},
   "source": [
    "Por último imputamos los valores nulos y comprobamos que ya no tenemos nulos."
   ]
  },
  {
   "cell_type": "code",
   "execution_count": 49,
   "id": "15915fac-537f-4b74-a97c-1449ac313b09",
   "metadata": {},
   "outputs": [
    {
     "data": {
      "text/plain": [
       "0"
      ]
     },
     "execution_count": 49,
     "metadata": {},
     "output_type": "execute_result"
    }
   ],
   "source": [
    "data.surface_covered_in_m2.fillna(data.sup_cov_calculada, inplace = True)\n",
    "data.surface_covered_in_m2.isnull().sum()"
   ]
  },
  {
   "cell_type": "markdown",
   "id": "e2c3c950-1544-4efd-90a0-c5b25bf7bf52",
   "metadata": {},
   "source": [
    "---"
   ]
  },
  {
   "cell_type": "markdown",
   "id": "536545ed-9b11-426c-a592-4c4baea5bb0f",
   "metadata": {
    "tags": []
   },
   "source": [
    "#### Expensas\n",
    "En las expensas tenemos una gran cantidad de datos de valor cero, ya que los que no extraimos de expresiones regulares los reemplazamos con ceros.\n",
    "Así que vamos a imputar los valores de expensas de los departamentos con medias, agrupadas por place_name, y en caso de valores nulos de estos grupos, los vamos a imputar con valores agrupados por state_name. "
   ]
  },
  {
   "cell_type": "markdown",
   "id": "edeb9bf2-5dfc-40f4-99bd-9ea6147848c2",
   "metadata": {},
   "source": [
    "reemplazamos los ceros por nulos, para trabajar mejor"
   ]
  },
  {
   "cell_type": "code",
   "execution_count": 50,
   "id": "bdc056cf-b9d7-436f-8011-24fc60cac270",
   "metadata": {},
   "outputs": [
    {
     "data": {
      "text/plain": [
       "13628"
      ]
     },
     "execution_count": 50,
     "metadata": {},
     "output_type": "execute_result"
    }
   ],
   "source": [
    "data.expenses = data[\"expenses\"].replace(0.0, np.nan)\n",
    "data.expenses.isnull().sum()"
   ]
  },
  {
   "cell_type": "markdown",
   "id": "411c3f24-e0d9-43ec-9698-e4e43dba84f2",
   "metadata": {},
   "source": [
    "Agrupamos por place_name"
   ]
  },
  {
   "cell_type": "code",
   "execution_count": 51,
   "id": "11d3376a-be4b-4877-97ea-58cb012d483e",
   "metadata": {
    "tags": []
   },
   "outputs": [
    {
     "name": "stdout",
     "output_type": "stream",
     "text": [
      "Index([' Country Maschwitz Club', ' los alamos', 'Acacias Blancas', 'Acassuso',\n",
      "       'Adrogué', 'Albanueva Barrio Cerrado', 'Aldo Bonzi', 'Almagro',\n",
      "       'Almirante Brown', 'Altamira',\n",
      "       ...\n",
      "       'Villa Pacheco', 'Villa Raffo', 'Villa Rosa', 'Villa Sarmiento',\n",
      "       'Villa Udaondo', 'Villa Urquiza', 'Village Golf & Tennis Country Club',\n",
      "       'Virrey del Pino', 'Virreyes', 'Zelaya'],\n",
      "      dtype='object', name='place_name', length=308)\n"
     ]
    }
   ],
   "source": [
    "fill_values2 = data.groupby([\"place_name\"]).expenses.mean()\n",
    "print(fill_values2.index)"
   ]
  },
  {
   "cell_type": "markdown",
   "id": "8370f660-e752-49bc-99b7-20ef5fb0cd03",
   "metadata": {},
   "source": [
    "Generamos el DataFrame"
   ]
  },
  {
   "cell_type": "code",
   "execution_count": 52,
   "id": "b51f4e8f-8a74-4004-b191-99ff16786fce",
   "metadata": {},
   "outputs": [
    {
     "data": {
      "text/html": [
       "<div>\n",
       "<style scoped>\n",
       "    .dataframe tbody tr th:only-of-type {\n",
       "        vertical-align: middle;\n",
       "    }\n",
       "\n",
       "    .dataframe tbody tr th {\n",
       "        vertical-align: top;\n",
       "    }\n",
       "\n",
       "    .dataframe thead th {\n",
       "        text-align: right;\n",
       "    }\n",
       "</style>\n",
       "<table border=\"1\" class=\"dataframe\">\n",
       "  <thead>\n",
       "    <tr style=\"text-align: right;\">\n",
       "      <th></th>\n",
       "      <th>place_name</th>\n",
       "      <th>expenses</th>\n",
       "    </tr>\n",
       "  </thead>\n",
       "  <tbody>\n",
       "    <tr>\n",
       "      <th>0</th>\n",
       "      <td>Country Maschwitz Club</td>\n",
       "      <td>NaN</td>\n",
       "    </tr>\n",
       "    <tr>\n",
       "      <th>1</th>\n",
       "      <td>los alamos</td>\n",
       "      <td>1500.000000</td>\n",
       "    </tr>\n",
       "    <tr>\n",
       "      <th>2</th>\n",
       "      <td>Acacias Blancas</td>\n",
       "      <td>NaN</td>\n",
       "    </tr>\n",
       "    <tr>\n",
       "      <th>3</th>\n",
       "      <td>Acassuso</td>\n",
       "      <td>800.000000</td>\n",
       "    </tr>\n",
       "    <tr>\n",
       "      <th>4</th>\n",
       "      <td>Adrogué</td>\n",
       "      <td>3692.272727</td>\n",
       "    </tr>\n",
       "  </tbody>\n",
       "</table>\n",
       "</div>"
      ],
      "text/plain": [
       "                place_name     expenses\n",
       "0   Country Maschwitz Club          NaN\n",
       "1               los alamos  1500.000000\n",
       "2          Acacias Blancas          NaN\n",
       "3                 Acassuso   800.000000\n",
       "4                  Adrogué  3692.272727"
      ]
     },
     "execution_count": 52,
     "metadata": {},
     "output_type": "execute_result"
    }
   ],
   "source": [
    "fill_values_df2 = pd.DataFrame(fill_values2)\n",
    "fill_values_df2.reset_index(inplace=True)\n",
    "fill_values_df2.head(5)"
   ]
  },
  {
   "cell_type": "markdown",
   "id": "3053c655-46db-4dda-a123-89ed63eff12e",
   "metadata": {},
   "source": [
    "Concatenamos la columna generada con el promedio de expensas basada en place_name"
   ]
  },
  {
   "cell_type": "code",
   "execution_count": 53,
   "id": "0e68ef2c-a1a2-4221-b1dc-640bf8c3e360",
   "metadata": {},
   "outputs": [
    {
     "data": {
      "text/html": [
       "<div>\n",
       "<style scoped>\n",
       "    .dataframe tbody tr th:only-of-type {\n",
       "        vertical-align: middle;\n",
       "    }\n",
       "\n",
       "    .dataframe tbody tr th {\n",
       "        vertical-align: top;\n",
       "    }\n",
       "\n",
       "    .dataframe thead th {\n",
       "        text-align: right;\n",
       "    }\n",
       "</style>\n",
       "<table border=\"1\" class=\"dataframe\">\n",
       "  <thead>\n",
       "    <tr style=\"text-align: right;\">\n",
       "      <th></th>\n",
       "      <th>index</th>\n",
       "      <th>property_type</th>\n",
       "      <th>place_name</th>\n",
       "      <th>place_with_parent_names</th>\n",
       "      <th>state_name</th>\n",
       "      <th>lat</th>\n",
       "      <th>lon</th>\n",
       "      <th>price</th>\n",
       "      <th>surface_total_in_m2</th>\n",
       "      <th>surface_covered_in_m2</th>\n",
       "      <th>...</th>\n",
       "      <th>Tiene_Patio</th>\n",
       "      <th>Es_Emprendimiento</th>\n",
       "      <th>Cantidad_Baños</th>\n",
       "      <th>price_usd_per_m2_aprox</th>\n",
       "      <th>geometry</th>\n",
       "      <th>distancias_al_rio</th>\n",
       "      <th>por_sup_cub</th>\n",
       "      <th>por_sup_cub_mean</th>\n",
       "      <th>sup_cov_calculada</th>\n",
       "      <th>expenses_mean</th>\n",
       "    </tr>\n",
       "  </thead>\n",
       "  <tbody>\n",
       "    <tr>\n",
       "      <th>0</th>\n",
       "      <td>6</td>\n",
       "      <td>PH</td>\n",
       "      <td>Munro</td>\n",
       "      <td>|Argentina|Bs.As. G.B.A. Zona Norte|Vicente Ló...</td>\n",
       "      <td>Bs.As. G.B.A. Zona Norte</td>\n",
       "      <td>-34.532957</td>\n",
       "      <td>-58.521782</td>\n",
       "      <td>130000.0</td>\n",
       "      <td>106.0</td>\n",
       "      <td>78.000000</td>\n",
       "      <td>...</td>\n",
       "      <td>1</td>\n",
       "      <td>0</td>\n",
       "      <td>1</td>\n",
       "      <td>1226.415094</td>\n",
       "      <td>POINT (-58.52178 -34.53296)</td>\n",
       "      <td>4832.377040</td>\n",
       "      <td>0.735849</td>\n",
       "      <td>0.756472</td>\n",
       "      <td>80.186076</td>\n",
       "      <td>1229.600000</td>\n",
       "    </tr>\n",
       "    <tr>\n",
       "      <th>1</th>\n",
       "      <td>7</td>\n",
       "      <td>apartment</td>\n",
       "      <td>Belgrano</td>\n",
       "      <td>|Argentina|Capital Federal|Belgrano|</td>\n",
       "      <td>Capital Federal</td>\n",
       "      <td>-34.559873</td>\n",
       "      <td>-58.443362</td>\n",
       "      <td>138000.0</td>\n",
       "      <td>45.0</td>\n",
       "      <td>40.000000</td>\n",
       "      <td>...</td>\n",
       "      <td>0</td>\n",
       "      <td>0</td>\n",
       "      <td>1</td>\n",
       "      <td>3066.666667</td>\n",
       "      <td>POINT (-58.44336 -34.55987)</td>\n",
       "      <td>1518.575258</td>\n",
       "      <td>0.888889</td>\n",
       "      <td>0.883029</td>\n",
       "      <td>39.736314</td>\n",
       "      <td>4845.784653</td>\n",
       "    </tr>\n",
       "    <tr>\n",
       "      <th>2</th>\n",
       "      <td>8</td>\n",
       "      <td>apartment</td>\n",
       "      <td>Belgrano</td>\n",
       "      <td>|Argentina|Capital Federal|Belgrano|</td>\n",
       "      <td>Capital Federal</td>\n",
       "      <td>-34.559873</td>\n",
       "      <td>-58.443362</td>\n",
       "      <td>195000.0</td>\n",
       "      <td>65.0</td>\n",
       "      <td>60.000000</td>\n",
       "      <td>...</td>\n",
       "      <td>0</td>\n",
       "      <td>0</td>\n",
       "      <td>1</td>\n",
       "      <td>3000.000000</td>\n",
       "      <td>POINT (-58.44336 -34.55987)</td>\n",
       "      <td>1518.575258</td>\n",
       "      <td>0.923077</td>\n",
       "      <td>0.883029</td>\n",
       "      <td>57.396898</td>\n",
       "      <td>4845.784653</td>\n",
       "    </tr>\n",
       "    <tr>\n",
       "      <th>3</th>\n",
       "      <td>12</td>\n",
       "      <td>apartment</td>\n",
       "      <td>Martínez</td>\n",
       "      <td>|Argentina|Bs.As. G.B.A. Zona Norte|San Isidro...</td>\n",
       "      <td>Bs.As. G.B.A. Zona Norte</td>\n",
       "      <td>-34.486019</td>\n",
       "      <td>-58.503814</td>\n",
       "      <td>115000.0</td>\n",
       "      <td>39.0</td>\n",
       "      <td>36.000000</td>\n",
       "      <td>...</td>\n",
       "      <td>0</td>\n",
       "      <td>0</td>\n",
       "      <td>1</td>\n",
       "      <td>2948.717949</td>\n",
       "      <td>POINT (-58.50381 -34.48602)</td>\n",
       "      <td>1639.803133</td>\n",
       "      <td>0.923077</td>\n",
       "      <td>0.883029</td>\n",
       "      <td>34.438139</td>\n",
       "      <td>2823.500000</td>\n",
       "    </tr>\n",
       "    <tr>\n",
       "      <th>4</th>\n",
       "      <td>15</td>\n",
       "      <td>house</td>\n",
       "      <td>Bella Vista</td>\n",
       "      <td>|Argentina|Bs.As. G.B.A. Zona Norte|San Miguel...</td>\n",
       "      <td>Bs.As. G.B.A. Zona Norte</td>\n",
       "      <td>-34.587911</td>\n",
       "      <td>-58.698783</td>\n",
       "      <td>250000.0</td>\n",
       "      <td>164.0</td>\n",
       "      <td>109.332185</td>\n",
       "      <td>...</td>\n",
       "      <td>1</td>\n",
       "      <td>0</td>\n",
       "      <td>1</td>\n",
       "      <td>1524.390244</td>\n",
       "      <td>POINT (-58.69878 -34.58791)</td>\n",
       "      <td>19345.651819</td>\n",
       "      <td>NaN</td>\n",
       "      <td>0.666660</td>\n",
       "      <td>109.332185</td>\n",
       "      <td>3175.000000</td>\n",
       "    </tr>\n",
       "  </tbody>\n",
       "</table>\n",
       "<p>5 rows × 29 columns</p>\n",
       "</div>"
      ],
      "text/plain": [
       "   index property_type   place_name  \\\n",
       "0      6            PH        Munro   \n",
       "1      7     apartment     Belgrano   \n",
       "2      8     apartment     Belgrano   \n",
       "3     12     apartment     Martínez   \n",
       "4     15         house  Bella Vista   \n",
       "\n",
       "                             place_with_parent_names  \\\n",
       "0  |Argentina|Bs.As. G.B.A. Zona Norte|Vicente Ló...   \n",
       "1               |Argentina|Capital Federal|Belgrano|   \n",
       "2               |Argentina|Capital Federal|Belgrano|   \n",
       "3  |Argentina|Bs.As. G.B.A. Zona Norte|San Isidro...   \n",
       "4  |Argentina|Bs.As. G.B.A. Zona Norte|San Miguel...   \n",
       "\n",
       "                 state_name        lat        lon     price  \\\n",
       "0  Bs.As. G.B.A. Zona Norte -34.532957 -58.521782  130000.0   \n",
       "1           Capital Federal -34.559873 -58.443362  138000.0   \n",
       "2           Capital Federal -34.559873 -58.443362  195000.0   \n",
       "3  Bs.As. G.B.A. Zona Norte -34.486019 -58.503814  115000.0   \n",
       "4  Bs.As. G.B.A. Zona Norte -34.587911 -58.698783  250000.0   \n",
       "\n",
       "   surface_total_in_m2  surface_covered_in_m2  ...  Tiene_Patio  \\\n",
       "0                106.0              78.000000  ...            1   \n",
       "1                 45.0              40.000000  ...            0   \n",
       "2                 65.0              60.000000  ...            0   \n",
       "3                 39.0              36.000000  ...            0   \n",
       "4                164.0             109.332185  ...            1   \n",
       "\n",
       "   Es_Emprendimiento  Cantidad_Baños  price_usd_per_m2_aprox  \\\n",
       "0                  0               1             1226.415094   \n",
       "1                  0               1             3066.666667   \n",
       "2                  0               1             3000.000000   \n",
       "3                  0               1             2948.717949   \n",
       "4                  0               1             1524.390244   \n",
       "\n",
       "                      geometry distancias_al_rio por_sup_cub por_sup_cub_mean  \\\n",
       "0  POINT (-58.52178 -34.53296)       4832.377040    0.735849         0.756472   \n",
       "1  POINT (-58.44336 -34.55987)       1518.575258    0.888889         0.883029   \n",
       "2  POINT (-58.44336 -34.55987)       1518.575258    0.923077         0.883029   \n",
       "3  POINT (-58.50381 -34.48602)       1639.803133    0.923077         0.883029   \n",
       "4  POINT (-58.69878 -34.58791)      19345.651819         NaN         0.666660   \n",
       "\n",
       "  sup_cov_calculada  expenses_mean  \n",
       "0         80.186076    1229.600000  \n",
       "1         39.736314    4845.784653  \n",
       "2         57.396898    4845.784653  \n",
       "3         34.438139    2823.500000  \n",
       "4        109.332185    3175.000000  \n",
       "\n",
       "[5 rows x 29 columns]"
      ]
     },
     "execution_count": 53,
     "metadata": {},
     "output_type": "execute_result"
    }
   ],
   "source": [
    "data = data.merge(fill_values_df2, on = \"place_name\", suffixes = (\"\", \"_mean\"), how = 'left')\n",
    "data.head(5)"
   ]
  },
  {
   "cell_type": "markdown",
   "id": "953413a0-75e4-4ba9-bcd7-fa23bc8a28e4",
   "metadata": {},
   "source": [
    "Agrupamos por state_name."
   ]
  },
  {
   "cell_type": "code",
   "execution_count": 54,
   "id": "ffd3ffad-03dc-4a61-944f-f46982b0420d",
   "metadata": {},
   "outputs": [
    {
     "name": "stdout",
     "output_type": "stream",
     "text": [
      "Index(['Bs.As. G.B.A. Zona Norte', 'Bs.As. G.B.A. Zona Oeste',\n",
      "       'Bs.As. G.B.A. Zona Sur', 'Capital Federal'],\n",
      "      dtype='object', name='state_name')\n",
      "[2917.32       1192.15763547 1442.20588235 3391.4012    ]\n"
     ]
    }
   ],
   "source": [
    "fill_values3 = data.groupby(\"state_name\").expenses.mean()\n",
    "print(fill_values3.index)\n",
    "print(fill_values3.values)"
   ]
  },
  {
   "cell_type": "markdown",
   "id": "8a07f88d-9c4f-46e2-bb3f-5505d667710c",
   "metadata": {},
   "source": [
    "Generamos DataFrame."
   ]
  },
  {
   "cell_type": "code",
   "execution_count": 55,
   "id": "4bac64bc-997b-490f-864a-6887fd56f207",
   "metadata": {
    "tags": []
   },
   "outputs": [
    {
     "data": {
      "text/html": [
       "<div>\n",
       "<style scoped>\n",
       "    .dataframe tbody tr th:only-of-type {\n",
       "        vertical-align: middle;\n",
       "    }\n",
       "\n",
       "    .dataframe tbody tr th {\n",
       "        vertical-align: top;\n",
       "    }\n",
       "\n",
       "    .dataframe thead th {\n",
       "        text-align: right;\n",
       "    }\n",
       "</style>\n",
       "<table border=\"1\" class=\"dataframe\">\n",
       "  <thead>\n",
       "    <tr style=\"text-align: right;\">\n",
       "      <th></th>\n",
       "      <th>state_name</th>\n",
       "      <th>expenses</th>\n",
       "    </tr>\n",
       "  </thead>\n",
       "  <tbody>\n",
       "    <tr>\n",
       "      <th>0</th>\n",
       "      <td>Bs.As. G.B.A. Zona Norte</td>\n",
       "      <td>2917.320000</td>\n",
       "    </tr>\n",
       "    <tr>\n",
       "      <th>1</th>\n",
       "      <td>Bs.As. G.B.A. Zona Oeste</td>\n",
       "      <td>1192.157635</td>\n",
       "    </tr>\n",
       "    <tr>\n",
       "      <th>2</th>\n",
       "      <td>Bs.As. G.B.A. Zona Sur</td>\n",
       "      <td>1442.205882</td>\n",
       "    </tr>\n",
       "    <tr>\n",
       "      <th>3</th>\n",
       "      <td>Capital Federal</td>\n",
       "      <td>3391.401200</td>\n",
       "    </tr>\n",
       "  </tbody>\n",
       "</table>\n",
       "</div>"
      ],
      "text/plain": [
       "                 state_name     expenses\n",
       "0  Bs.As. G.B.A. Zona Norte  2917.320000\n",
       "1  Bs.As. G.B.A. Zona Oeste  1192.157635\n",
       "2    Bs.As. G.B.A. Zona Sur  1442.205882\n",
       "3           Capital Federal  3391.401200"
      ]
     },
     "execution_count": 55,
     "metadata": {},
     "output_type": "execute_result"
    }
   ],
   "source": [
    "fill_values_df3 = pd.DataFrame(fill_values3)\n",
    "fill_values_df3.reset_index(inplace=True)\n",
    "fill_values_df3.head(5)"
   ]
  },
  {
   "cell_type": "markdown",
   "id": "1e1fffd5-6be6-4aee-aeb7-307838dff426",
   "metadata": {},
   "source": [
    "Concatenamos la columna generada con el promedio de expensas basada en state_name (mucho menos precisa)"
   ]
  },
  {
   "cell_type": "code",
   "execution_count": 56,
   "id": "c5058b6a-ac78-410d-ba93-3f091b739952",
   "metadata": {},
   "outputs": [
    {
     "data": {
      "text/html": [
       "<div>\n",
       "<style scoped>\n",
       "    .dataframe tbody tr th:only-of-type {\n",
       "        vertical-align: middle;\n",
       "    }\n",
       "\n",
       "    .dataframe tbody tr th {\n",
       "        vertical-align: top;\n",
       "    }\n",
       "\n",
       "    .dataframe thead th {\n",
       "        text-align: right;\n",
       "    }\n",
       "</style>\n",
       "<table border=\"1\" class=\"dataframe\">\n",
       "  <thead>\n",
       "    <tr style=\"text-align: right;\">\n",
       "      <th></th>\n",
       "      <th>index</th>\n",
       "      <th>property_type</th>\n",
       "      <th>place_name</th>\n",
       "      <th>place_with_parent_names</th>\n",
       "      <th>state_name</th>\n",
       "      <th>lat</th>\n",
       "      <th>lon</th>\n",
       "      <th>price</th>\n",
       "      <th>surface_total_in_m2</th>\n",
       "      <th>surface_covered_in_m2</th>\n",
       "      <th>...</th>\n",
       "      <th>Es_Emprendimiento</th>\n",
       "      <th>Cantidad_Baños</th>\n",
       "      <th>price_usd_per_m2_aprox</th>\n",
       "      <th>geometry</th>\n",
       "      <th>distancias_al_rio</th>\n",
       "      <th>por_sup_cub</th>\n",
       "      <th>por_sup_cub_mean</th>\n",
       "      <th>sup_cov_calculada</th>\n",
       "      <th>expenses_mean</th>\n",
       "      <th>expenses_mean_state</th>\n",
       "    </tr>\n",
       "  </thead>\n",
       "  <tbody>\n",
       "    <tr>\n",
       "      <th>0</th>\n",
       "      <td>6</td>\n",
       "      <td>PH</td>\n",
       "      <td>Munro</td>\n",
       "      <td>|Argentina|Bs.As. G.B.A. Zona Norte|Vicente Ló...</td>\n",
       "      <td>Bs.As. G.B.A. Zona Norte</td>\n",
       "      <td>-34.532957</td>\n",
       "      <td>-58.521782</td>\n",
       "      <td>130000.0</td>\n",
       "      <td>106.0</td>\n",
       "      <td>78.000000</td>\n",
       "      <td>...</td>\n",
       "      <td>0</td>\n",
       "      <td>1</td>\n",
       "      <td>1226.415094</td>\n",
       "      <td>POINT (-58.52178 -34.53296)</td>\n",
       "      <td>4832.377040</td>\n",
       "      <td>0.735849</td>\n",
       "      <td>0.756472</td>\n",
       "      <td>80.186076</td>\n",
       "      <td>1229.600000</td>\n",
       "      <td>2917.3200</td>\n",
       "    </tr>\n",
       "    <tr>\n",
       "      <th>1</th>\n",
       "      <td>7</td>\n",
       "      <td>apartment</td>\n",
       "      <td>Belgrano</td>\n",
       "      <td>|Argentina|Capital Federal|Belgrano|</td>\n",
       "      <td>Capital Federal</td>\n",
       "      <td>-34.559873</td>\n",
       "      <td>-58.443362</td>\n",
       "      <td>138000.0</td>\n",
       "      <td>45.0</td>\n",
       "      <td>40.000000</td>\n",
       "      <td>...</td>\n",
       "      <td>0</td>\n",
       "      <td>1</td>\n",
       "      <td>3066.666667</td>\n",
       "      <td>POINT (-58.44336 -34.55987)</td>\n",
       "      <td>1518.575258</td>\n",
       "      <td>0.888889</td>\n",
       "      <td>0.883029</td>\n",
       "      <td>39.736314</td>\n",
       "      <td>4845.784653</td>\n",
       "      <td>3391.4012</td>\n",
       "    </tr>\n",
       "    <tr>\n",
       "      <th>2</th>\n",
       "      <td>8</td>\n",
       "      <td>apartment</td>\n",
       "      <td>Belgrano</td>\n",
       "      <td>|Argentina|Capital Federal|Belgrano|</td>\n",
       "      <td>Capital Federal</td>\n",
       "      <td>-34.559873</td>\n",
       "      <td>-58.443362</td>\n",
       "      <td>195000.0</td>\n",
       "      <td>65.0</td>\n",
       "      <td>60.000000</td>\n",
       "      <td>...</td>\n",
       "      <td>0</td>\n",
       "      <td>1</td>\n",
       "      <td>3000.000000</td>\n",
       "      <td>POINT (-58.44336 -34.55987)</td>\n",
       "      <td>1518.575258</td>\n",
       "      <td>0.923077</td>\n",
       "      <td>0.883029</td>\n",
       "      <td>57.396898</td>\n",
       "      <td>4845.784653</td>\n",
       "      <td>3391.4012</td>\n",
       "    </tr>\n",
       "    <tr>\n",
       "      <th>3</th>\n",
       "      <td>12</td>\n",
       "      <td>apartment</td>\n",
       "      <td>Martínez</td>\n",
       "      <td>|Argentina|Bs.As. G.B.A. Zona Norte|San Isidro...</td>\n",
       "      <td>Bs.As. G.B.A. Zona Norte</td>\n",
       "      <td>-34.486019</td>\n",
       "      <td>-58.503814</td>\n",
       "      <td>115000.0</td>\n",
       "      <td>39.0</td>\n",
       "      <td>36.000000</td>\n",
       "      <td>...</td>\n",
       "      <td>0</td>\n",
       "      <td>1</td>\n",
       "      <td>2948.717949</td>\n",
       "      <td>POINT (-58.50381 -34.48602)</td>\n",
       "      <td>1639.803133</td>\n",
       "      <td>0.923077</td>\n",
       "      <td>0.883029</td>\n",
       "      <td>34.438139</td>\n",
       "      <td>2823.500000</td>\n",
       "      <td>2917.3200</td>\n",
       "    </tr>\n",
       "    <tr>\n",
       "      <th>4</th>\n",
       "      <td>15</td>\n",
       "      <td>house</td>\n",
       "      <td>Bella Vista</td>\n",
       "      <td>|Argentina|Bs.As. G.B.A. Zona Norte|San Miguel...</td>\n",
       "      <td>Bs.As. G.B.A. Zona Norte</td>\n",
       "      <td>-34.587911</td>\n",
       "      <td>-58.698783</td>\n",
       "      <td>250000.0</td>\n",
       "      <td>164.0</td>\n",
       "      <td>109.332185</td>\n",
       "      <td>...</td>\n",
       "      <td>0</td>\n",
       "      <td>1</td>\n",
       "      <td>1524.390244</td>\n",
       "      <td>POINT (-58.69878 -34.58791)</td>\n",
       "      <td>19345.651819</td>\n",
       "      <td>NaN</td>\n",
       "      <td>0.666660</td>\n",
       "      <td>109.332185</td>\n",
       "      <td>3175.000000</td>\n",
       "      <td>2917.3200</td>\n",
       "    </tr>\n",
       "  </tbody>\n",
       "</table>\n",
       "<p>5 rows × 30 columns</p>\n",
       "</div>"
      ],
      "text/plain": [
       "   index property_type   place_name  \\\n",
       "0      6            PH        Munro   \n",
       "1      7     apartment     Belgrano   \n",
       "2      8     apartment     Belgrano   \n",
       "3     12     apartment     Martínez   \n",
       "4     15         house  Bella Vista   \n",
       "\n",
       "                             place_with_parent_names  \\\n",
       "0  |Argentina|Bs.As. G.B.A. Zona Norte|Vicente Ló...   \n",
       "1               |Argentina|Capital Federal|Belgrano|   \n",
       "2               |Argentina|Capital Federal|Belgrano|   \n",
       "3  |Argentina|Bs.As. G.B.A. Zona Norte|San Isidro...   \n",
       "4  |Argentina|Bs.As. G.B.A. Zona Norte|San Miguel...   \n",
       "\n",
       "                 state_name        lat        lon     price  \\\n",
       "0  Bs.As. G.B.A. Zona Norte -34.532957 -58.521782  130000.0   \n",
       "1           Capital Federal -34.559873 -58.443362  138000.0   \n",
       "2           Capital Federal -34.559873 -58.443362  195000.0   \n",
       "3  Bs.As. G.B.A. Zona Norte -34.486019 -58.503814  115000.0   \n",
       "4  Bs.As. G.B.A. Zona Norte -34.587911 -58.698783  250000.0   \n",
       "\n",
       "   surface_total_in_m2  surface_covered_in_m2  ...  Es_Emprendimiento  \\\n",
       "0                106.0              78.000000  ...                  0   \n",
       "1                 45.0              40.000000  ...                  0   \n",
       "2                 65.0              60.000000  ...                  0   \n",
       "3                 39.0              36.000000  ...                  0   \n",
       "4                164.0             109.332185  ...                  0   \n",
       "\n",
       "   Cantidad_Baños  price_usd_per_m2_aprox                     geometry  \\\n",
       "0               1             1226.415094  POINT (-58.52178 -34.53296)   \n",
       "1               1             3066.666667  POINT (-58.44336 -34.55987)   \n",
       "2               1             3000.000000  POINT (-58.44336 -34.55987)   \n",
       "3               1             2948.717949  POINT (-58.50381 -34.48602)   \n",
       "4               1             1524.390244  POINT (-58.69878 -34.58791)   \n",
       "\n",
       "   distancias_al_rio por_sup_cub por_sup_cub_mean sup_cov_calculada  \\\n",
       "0        4832.377040    0.735849         0.756472         80.186076   \n",
       "1        1518.575258    0.888889         0.883029         39.736314   \n",
       "2        1518.575258    0.923077         0.883029         57.396898   \n",
       "3        1639.803133    0.923077         0.883029         34.438139   \n",
       "4       19345.651819         NaN         0.666660        109.332185   \n",
       "\n",
       "  expenses_mean  expenses_mean_state  \n",
       "0   1229.600000            2917.3200  \n",
       "1   4845.784653            3391.4012  \n",
       "2   4845.784653            3391.4012  \n",
       "3   2823.500000            2917.3200  \n",
       "4   3175.000000            2917.3200  \n",
       "\n",
       "[5 rows x 30 columns]"
      ]
     },
     "execution_count": 56,
     "metadata": {},
     "output_type": "execute_result"
    }
   ],
   "source": [
    "data = data.merge(fill_values_df3, on = \"state_name\", suffixes = (\"\", \"_mean_state\"), how = 'left')\n",
    "data.head(5)"
   ]
  },
  {
   "cell_type": "markdown",
   "id": "70e74bda-d0d5-462f-a510-e131e541b6ff",
   "metadata": {},
   "source": [
    "Reemplazamos los nulos con los promedios agrupados por place name, pero como podemos comprobar no es suficiente,\n",
    "debido a que algunos valores de place_name no contenían ni un solo valor de expensas."
   ]
  },
  {
   "cell_type": "code",
   "execution_count": 57,
   "id": "77bc5e91-9e1a-437a-b82e-b3723623c33c",
   "metadata": {},
   "outputs": [
    {
     "data": {
      "text/plain": [
       "1579"
      ]
     },
     "execution_count": 57,
     "metadata": {},
     "output_type": "execute_result"
    }
   ],
   "source": [
    "data.expenses.fillna(data.expenses_mean, inplace = True)\n",
    "data.expenses.isnull().sum()"
   ]
  },
  {
   "cell_type": "markdown",
   "id": "5e34d279-8f54-4363-9e91-884483e80c52",
   "metadata": {},
   "source": [
    "Por lo que imputamos los faltantes con un valor promedio basado en state_name."
   ]
  },
  {
   "cell_type": "code",
   "execution_count": 58,
   "id": "12859280-d5ec-4743-a0e2-29aa9e26d41a",
   "metadata": {},
   "outputs": [
    {
     "data": {
      "text/plain": [
       "0"
      ]
     },
     "execution_count": 58,
     "metadata": {},
     "output_type": "execute_result"
    }
   ],
   "source": [
    "data.expenses.fillna(data.expenses_mean_state, inplace = True)\n",
    "data.expenses.isnull().sum()"
   ]
  },
  {
   "cell_type": "markdown",
   "id": "339bb685-2922-4bea-97c5-1f9883b945c8",
   "metadata": {},
   "source": [
    "Y por último dejamos solo los valores de las expensas de los departamentos, que son los que tienen que pagar expensas y los demas dejamos con valor cero"
   ]
  },
  {
   "cell_type": "code",
   "execution_count": 59,
   "id": "a3cee763-d529-45dc-a68a-aa56dbf380ea",
   "metadata": {},
   "outputs": [
    {
     "data": {
      "text/plain": [
       "0.0    6984\n",
       "Name: expenses, dtype: int64"
      ]
     },
     "execution_count": 59,
     "metadata": {},
     "output_type": "execute_result"
    }
   ],
   "source": [
    "data[\"expenses\"] = data.apply(lambda x: x.expenses if x.property_type == \"apartment\" else 0.0, axis = 1)\n",
    "others_mask = data.property_type != \"apartment\"\n",
    "others_expenses = data[others_mask]\n",
    "others_expenses.expenses.value_counts()"
   ]
  },
  {
   "cell_type": "markdown",
   "id": "850d5df7-d4db-4d2b-86a3-ead342042058",
   "metadata": {},
   "source": [
    "comprobamos que no quedan departamentos sin expensas."
   ]
  },
  {
   "cell_type": "code",
   "execution_count": 60,
   "id": "88d9334d-0ab2-4d7c-ab30-f83bef24ee4c",
   "metadata": {},
   "outputs": [
    {
     "data": {
      "text/plain": [
       "0"
      ]
     },
     "execution_count": 60,
     "metadata": {},
     "output_type": "execute_result"
    }
   ],
   "source": [
    "departments_mask = data.property_type == \"apartment\"\n",
    "dep_expenses = data[departments_mask]\n",
    "dep_expenses.expenses.isnull().sum()"
   ]
  },
  {
   "cell_type": "markdown",
   "id": "6d919b1c",
   "metadata": {},
   "source": [
    "---\n",
    "### Columnas innecesarias"
   ]
  },
  {
   "cell_type": "markdown",
   "id": "82333980-c19a-42ca-a992-23713c3d4ff8",
   "metadata": {},
   "source": [
    "Procederemos a retirar las columnas que ya no necesitamos."
   ]
  },
  {
   "cell_type": "code",
   "execution_count": 61,
   "id": "a42e93aa-4469-408f-87f4-0e283e7da388",
   "metadata": {},
   "outputs": [
    {
     "data": {
      "text/plain": [
       "index                         int64\n",
       "property_type                object\n",
       "place_name                   object\n",
       "place_with_parent_names      object\n",
       "state_name                   object\n",
       "lat                         float64\n",
       "lon                         float64\n",
       "price                       float64\n",
       "surface_total_in_m2         float64\n",
       "surface_covered_in_m2       float64\n",
       "price_usd_per_m2            float64\n",
       "price_per_m2                float64\n",
       "floor                       float64\n",
       "rooms                       float64\n",
       "expenses                    float64\n",
       "properati_url                object\n",
       "description                  object\n",
       "title                        object\n",
       "ciudad                       object\n",
       "Tiene_Patio                   int64\n",
       "Es_Emprendimiento             int64\n",
       "Cantidad_Baños                int64\n",
       "price_usd_per_m2_aprox      float64\n",
       "geometry                   geometry\n",
       "distancias_al_rio           float64\n",
       "por_sup_cub                 float64\n",
       "por_sup_cub_mean            float64\n",
       "sup_cov_calculada           float64\n",
       "expenses_mean               float64\n",
       "expenses_mean_state         float64\n",
       "dtype: object"
      ]
     },
     "execution_count": 61,
     "metadata": {},
     "output_type": "execute_result"
    }
   ],
   "source": [
    "data.dtypes"
   ]
  },
  {
   "cell_type": "markdown",
   "id": "d53877a8-11a2-4fe0-99cf-768c78bd6fc3",
   "metadata": {},
   "source": [
    "#### Las mismas son:\n",
    "- price (no podemos dejar esta, ya que tiene relación lineal con el precio por metro cuadrado)\n",
    "- price_per_m2 (esta es remanente del trabajo anterior, no sirve, ya que tiene una mezcla de unidades de precios)\n",
    "- floor (lamentablemente si bien el piso en el que está ubicado un departamento es influyente en el precio, no pudimos imputar muchos datos, y tiene una gran cantidad de nulos)\n",
    "- properati_url\n",
    "- description\n",
    "- title\n",
    "- ciudad\n",
    "- price_usd_per_m2_aprox (columna que usamos para imputar datos mediante una simple división entre superficie total y precio)\n",
    "- geometry (usada con geopandas)\n",
    "- por_sup_cub (usada para imputar)\n",
    "- por_sup_cub_mean (usada para imputar)\n",
    "- sup_cov_calculada (usada para imputar)\n",
    "- expenses_mean (usada para imputar)\n",
    "- expenses_mean_state (usada para imputar)"
   ]
  },
  {
   "cell_type": "code",
   "execution_count": 62,
   "id": "128b96f7",
   "metadata": {},
   "outputs": [],
   "source": [
    "data = data.drop(axis=1, columns=[\"price\",\n",
    "                                  \"price_per_m2\",\n",
    "                                  \"floor\",\n",
    "                                  \"properati_url\",\n",
    "                                  \"description\",\n",
    "                                  \"title\",\n",
    "                                  \"ciudad\",\n",
    "                                  \"price_usd_per_m2_aprox\", \n",
    "                                  \"geometry\",\n",
    "                                  \"por_sup_cub\", \n",
    "                                  \"por_sup_cub_mean\",\n",
    "                                  \"sup_cov_calculada\",\n",
    "                                  \"expenses_mean\",\n",
    "                                  \"expenses_mean_state\"])"
   ]
  },
  {
   "cell_type": "code",
   "execution_count": 63,
   "id": "2be3f1b3",
   "metadata": {},
   "outputs": [
    {
     "data": {
      "text/plain": [
       "index                        int64\n",
       "property_type               object\n",
       "place_name                  object\n",
       "place_with_parent_names     object\n",
       "state_name                  object\n",
       "lat                        float64\n",
       "lon                        float64\n",
       "surface_total_in_m2        float64\n",
       "surface_covered_in_m2      float64\n",
       "price_usd_per_m2           float64\n",
       "rooms                      float64\n",
       "expenses                   float64\n",
       "Tiene_Patio                  int64\n",
       "Es_Emprendimiento            int64\n",
       "Cantidad_Baños               int64\n",
       "distancias_al_rio          float64\n",
       "dtype: object"
      ]
     },
     "execution_count": 63,
     "metadata": {},
     "output_type": "execute_result"
    }
   ],
   "source": [
    "data.dtypes"
   ]
  },
  {
   "cell_type": "markdown",
   "id": "7566b976-b0b4-4537-9e1d-6f7bee60556f",
   "metadata": {},
   "source": [
    "### Comprobamos los datos nulos"
   ]
  },
  {
   "cell_type": "code",
   "execution_count": 64,
   "id": "2c6e66a9-3be5-405d-9729-bfb798f133de",
   "metadata": {},
   "outputs": [
    {
     "data": {
      "text/plain": [
       "index                      0.0\n",
       "property_type              0.0\n",
       "place_name                 0.0\n",
       "place_with_parent_names    0.0\n",
       "state_name                 0.0\n",
       "lat                        0.0\n",
       "lon                        0.0\n",
       "surface_total_in_m2        0.0\n",
       "surface_covered_in_m2      0.0\n",
       "price_usd_per_m2           0.0\n",
       "rooms                      0.0\n",
       "expenses                   0.0\n",
       "Tiene_Patio                0.0\n",
       "Es_Emprendimiento          0.0\n",
       "Cantidad_Baños             0.0\n",
       "distancias_al_rio          0.0\n",
       "dtype: float64"
      ]
     },
     "execution_count": 64,
     "metadata": {},
     "output_type": "execute_result"
    },
    {
     "data": {
      "image/png": "[encoded data removed]",
      "text/plain": [
       "<Figure size 864x864 with 2 Axes>"
      ]
     },
     "metadata": {
      "needs_background": "light"
     },
     "output_type": "display_data"
    }
   ],
   "source": [
    "fig, ax = plt.subplots(figsize=(12,12))\n",
    "sns.heatmap(data.isna(), ax=ax)\n",
    "round(data.isnull().sum() / data.shape[0] *100,0)"
   ]
  },
  {
   "cell_type": "code",
   "execution_count": 65,
   "id": "bae3d68e-4aec-4098-b0e2-9b990ebb1f04",
   "metadata": {},
   "outputs": [
    {
     "data": {
      "text/plain": [
       "index                      0\n",
       "property_type              0\n",
       "place_name                 0\n",
       "place_with_parent_names    0\n",
       "state_name                 0\n",
       "lat                        0\n",
       "lon                        0\n",
       "surface_total_in_m2        0\n",
       "surface_covered_in_m2      0\n",
       "price_usd_per_m2           0\n",
       "rooms                      0\n",
       "expenses                   0\n",
       "Tiene_Patio                0\n",
       "Es_Emprendimiento          0\n",
       "Cantidad_Baños             0\n",
       "distancias_al_rio          0\n",
       "dtype: int64"
      ]
     },
     "execution_count": 65,
     "metadata": {},
     "output_type": "execute_result"
    }
   ],
   "source": [
    "data.isnull().sum()"
   ]
  },
  {
   "cell_type": "markdown",
   "id": "b7b51384-1011-466b-b2d8-6443dcae12ed",
   "metadata": {},
   "source": [
    "---\n",
    "# Variables Jerárquicas"
   ]
  },
  {
   "cell_type": "markdown",
   "id": "668bf091-eee2-4b29-8b59-70ce897ddf57",
   "metadata": {},
   "source": [
    "### Vamos a añadir algunas variables de valores jerarquicos"
   ]
  },
  {
   "cell_type": "markdown",
   "id": "e8847514-c637-4167-a2f4-52947afd9bad",
   "metadata": {},
   "source": [
    "Añadimos latitud al cuadrado, longitud al cuadrado, y el producto de ellas."
   ]
  },
  {
   "cell_type": "code",
   "execution_count": 66,
   "id": "33c9f4f3-3294-4125-8248-847ceb7ef669",
   "metadata": {},
   "outputs": [
    {
     "data": {
      "text/html": [
       "<div>\n",
       "<style scoped>\n",
       "    .dataframe tbody tr th:only-of-type {\n",
       "        vertical-align: middle;\n",
       "    }\n",
       "\n",
       "    .dataframe tbody tr th {\n",
       "        vertical-align: top;\n",
       "    }\n",
       "\n",
       "    .dataframe thead th {\n",
       "        text-align: right;\n",
       "    }\n",
       "</style>\n",
       "<table border=\"1\" class=\"dataframe\">\n",
       "  <thead>\n",
       "    <tr style=\"text-align: right;\">\n",
       "      <th></th>\n",
       "      <th>lat</th>\n",
       "      <th>lat2</th>\n",
       "      <th>lat_lon</th>\n",
       "      <th>lon</th>\n",
       "      <th>lon2</th>\n",
       "    </tr>\n",
       "  </thead>\n",
       "  <tbody>\n",
       "    <tr>\n",
       "      <th>0</th>\n",
       "      <td>-34.532957</td>\n",
       "      <td>1192.525098</td>\n",
       "      <td>2020.930181</td>\n",
       "      <td>-58.521782</td>\n",
       "      <td>3424.799027</td>\n",
       "    </tr>\n",
       "    <tr>\n",
       "      <th>1</th>\n",
       "      <td>-34.559873</td>\n",
       "      <td>1194.384815</td>\n",
       "      <td>2019.795163</td>\n",
       "      <td>-58.443362</td>\n",
       "      <td>3415.626562</td>\n",
       "    </tr>\n",
       "    <tr>\n",
       "      <th>2</th>\n",
       "      <td>-34.559873</td>\n",
       "      <td>1194.384815</td>\n",
       "      <td>2019.795163</td>\n",
       "      <td>-58.443362</td>\n",
       "      <td>3415.626562</td>\n",
       "    </tr>\n",
       "  </tbody>\n",
       "</table>\n",
       "</div>"
      ],
      "text/plain": [
       "         lat         lat2      lat_lon        lon         lon2\n",
       "0 -34.532957  1192.525098  2020.930181 -58.521782  3424.799027\n",
       "1 -34.559873  1194.384815  2019.795163 -58.443362  3415.626562\n",
       "2 -34.559873  1194.384815  2019.795163 -58.443362  3415.626562"
      ]
     },
     "execution_count": 66,
     "metadata": {},
     "output_type": "execute_result"
    }
   ],
   "source": [
    "data.loc[:,\"lat2\"] = data.lat * data.lat\n",
    "data.loc[:,\"lon2\"] = data.lon * data.lon\n",
    "data.loc[:,\"lat_lon\"] = data.lat * data.lon\n",
    "data.loc[:,[\"lat\", \"lat2\", \"lat_lon\", \"lon\", \"lon2\"]].head(3)"
   ]
  },
  {
   "cell_type": "markdown",
   "id": "ac0fdddf-7ac7-4dad-b57e-b0add11dbc5b",
   "metadata": {},
   "source": [
    "También añadimos cantidad de ambientes al cuadrado y cantidad de baños al cuadrado."
   ]
  },
  {
   "cell_type": "code",
   "execution_count": 67,
   "id": "c5750887-b12e-4dd7-ac34-4f718cab641e",
   "metadata": {},
   "outputs": [],
   "source": [
    "data.loc[:,\"rooms2\"] = data.rooms * data.rooms\n",
    "data.loc[:,\"Cantidad_Baños2\"] = data.Cantidad_Baños * data.Cantidad_Baños"
   ]
  },
  {
   "cell_type": "markdown",
   "id": "fd6356c2",
   "metadata": {},
   "source": [
    "---\n",
    "## Variables Categóricas Nominales"
   ]
  },
  {
   "cell_type": "markdown",
   "id": "deb1161f",
   "metadata": {
    "tags": []
   },
   "source": [
    "#### Vamos generar los Dummies de las variables categóricas nominales\n",
    "\n",
    "- Property type\n",
    "- State name\n",
    "- Place name"
   ]
  },
  {
   "cell_type": "markdown",
   "id": "c145b0bb-7856-4095-a083-34cfbf3b8843",
   "metadata": {
    "tags": []
   },
   "source": [
    "Añadimos dummies para property_type"
   ]
  },
  {
   "cell_type": "code",
   "execution_count": 68,
   "id": "6191ec91",
   "metadata": {},
   "outputs": [
    {
     "name": "stdout",
     "output_type": "stream",
     "text": [
      "Columnas before property_type dummies:  (16860, 21)\n",
      "Columnas after property_type dummies:  (16860, 24)\n"
     ]
    },
    {
     "data": {
      "text/html": [
       "<div>\n",
       "<style scoped>\n",
       "    .dataframe tbody tr th:only-of-type {\n",
       "        vertical-align: middle;\n",
       "    }\n",
       "\n",
       "    .dataframe tbody tr th {\n",
       "        vertical-align: top;\n",
       "    }\n",
       "\n",
       "    .dataframe thead th {\n",
       "        text-align: right;\n",
       "    }\n",
       "</style>\n",
       "<table border=\"1\" class=\"dataframe\">\n",
       "  <thead>\n",
       "    <tr style=\"text-align: right;\">\n",
       "      <th></th>\n",
       "      <th>apartment</th>\n",
       "      <th>house</th>\n",
       "      <th>store</th>\n",
       "    </tr>\n",
       "  </thead>\n",
       "  <tbody>\n",
       "    <tr>\n",
       "      <th>0</th>\n",
       "      <td>0</td>\n",
       "      <td>0</td>\n",
       "      <td>0</td>\n",
       "    </tr>\n",
       "  </tbody>\n",
       "</table>\n",
       "</div>"
      ],
      "text/plain": [
       "   apartment  house  store\n",
       "0          0      0      0"
      ]
     },
     "execution_count": 68,
     "metadata": {},
     "output_type": "execute_result"
    }
   ],
   "source": [
    "print(\"Columnas before property_type dummies: \", data.shape)\n",
    "property_type_dummies = pd.get_dummies(data.property_type, drop_first = True)\n",
    "data = pd.concat([data, property_type_dummies], axis=1)\n",
    "print(\"Columnas after property_type dummies: \", data.shape)\n",
    "property_type_dummies.head(1)"
   ]
  },
  {
   "cell_type": "markdown",
   "id": "484de2fc-5674-4c75-ae6d-75d1b6c6a563",
   "metadata": {},
   "source": [
    "Ahora dummies state_name"
   ]
  },
  {
   "cell_type": "code",
   "execution_count": 69,
   "id": "6d139aac",
   "metadata": {},
   "outputs": [
    {
     "name": "stdout",
     "output_type": "stream",
     "text": [
      "Columnas before state_name dummies:  (16860, 24)\n",
      "Columnas after state_name dummies:  (16860, 27)\n"
     ]
    },
    {
     "data": {
      "text/html": [
       "<div>\n",
       "<style scoped>\n",
       "    .dataframe tbody tr th:only-of-type {\n",
       "        vertical-align: middle;\n",
       "    }\n",
       "\n",
       "    .dataframe tbody tr th {\n",
       "        vertical-align: top;\n",
       "    }\n",
       "\n",
       "    .dataframe thead th {\n",
       "        text-align: right;\n",
       "    }\n",
       "</style>\n",
       "<table border=\"1\" class=\"dataframe\">\n",
       "  <thead>\n",
       "    <tr style=\"text-align: right;\">\n",
       "      <th></th>\n",
       "      <th>Bs.As. G.B.A. Zona Oeste</th>\n",
       "      <th>Bs.As. G.B.A. Zona Sur</th>\n",
       "      <th>Capital Federal</th>\n",
       "    </tr>\n",
       "  </thead>\n",
       "  <tbody>\n",
       "    <tr>\n",
       "      <th>0</th>\n",
       "      <td>0</td>\n",
       "      <td>0</td>\n",
       "      <td>0</td>\n",
       "    </tr>\n",
       "  </tbody>\n",
       "</table>\n",
       "</div>"
      ],
      "text/plain": [
       "   Bs.As. G.B.A. Zona Oeste  Bs.As. G.B.A. Zona Sur  Capital Federal\n",
       "0                         0                       0                0"
      ]
     },
     "execution_count": 69,
     "metadata": {},
     "output_type": "execute_result"
    }
   ],
   "source": [
    "print(\"Columnas before state_name dummies: \", data.shape)\n",
    "state_name_dummies = pd.get_dummies(data.state_name, drop_first = True)\n",
    "data = pd.concat([data, state_name_dummies], axis=1)\n",
    "print(\"Columnas after state_name dummies: \", data.shape)\n",
    "state_name_dummies.head(1)"
   ]
  },
  {
   "cell_type": "markdown",
   "id": "e2e33a19-9303-4611-80e5-e446d65a3017",
   "metadata": {},
   "source": [
    "Y finalmente generamos dummies de place_name"
   ]
  },
  {
   "cell_type": "code",
   "execution_count": 70,
   "id": "d82e172f",
   "metadata": {},
   "outputs": [
    {
     "name": "stdout",
     "output_type": "stream",
     "text": [
      "Columnas before place_name dummies:  (16860, 27)\n",
      "Columnas after place_name dummies:  (16860, 334)\n"
     ]
    }
   ],
   "source": [
    "print(\"Columnas before place_name dummies: \", data.shape)\n",
    "place_name_dummies = pd.get_dummies(data.place_name, drop_first = True)\n",
    "data = pd.concat([data, place_name_dummies], axis=1)\n",
    "print(\"Columnas after place_name dummies: \", data.shape)"
   ]
  },
  {
   "cell_type": "markdown",
   "id": "e84f51aa-e170-41ef-8786-d1610fa5c120",
   "metadata": {},
   "source": [
    "##### Dropeamos columnas pasadas a dummies y que no vamos a usar para el análisis."
   ]
  },
  {
   "cell_type": "code",
   "execution_count": 71,
   "id": "916bc385-898f-4777-aa65-e2579f3554e5",
   "metadata": {
    "tags": []
   },
   "outputs": [],
   "source": [
    "columns_to_drop = [\"place_with_parent_names\",\n",
    "                   \"index\",\n",
    "                   \"property_type\",\n",
    "                   \"state_name\", \n",
    "                   \"surface_total_in_m2\",\n",
    "                   \"surface_covered_in_m2\",\n",
    "                   \"place_name\"]\n",
    "\n",
    "data = data.drop(axis=1, columns=columns_to_drop)"
   ]
  },
  {
   "cell_type": "code",
   "execution_count": 72,
   "id": "8c64b3e8-ca84-4a06-b2c5-19c2e82814aa",
   "metadata": {},
   "outputs": [],
   "source": [
    "# data.to_csv('properati_ml.csv', index=False)"
   ]
  },
  {
   "cell_type": "markdown",
   "id": "6b8baf22",
   "metadata": {},
   "source": [
    "---\n",
    "---\n",
    "# Aplicacion de los modelos\n",
    "---"
   ]
  },
  {
   "cell_type": "markdown",
   "id": "24ae7f7c-a2fc-41b2-b593-a0a3699dec99",
   "metadata": {},
   "source": [
    "## Modelo Regresión Lineal"
   ]
  },
  {
   "cell_type": "markdown",
   "id": "b0cd5c41-2e0a-4911-b15b-f64fd790c737",
   "metadata": {},
   "source": [
    "Comenzamos dividiendo la variable a predecir, sin normalizar en Regresión Lineal Múltiple."
   ]
  },
  {
   "cell_type": "code",
   "execution_count": 73,
   "id": "c8a0a36a-c970-4ad8-b4ab-75572d99d432",
   "metadata": {},
   "outputs": [],
   "source": [
    "X1 = data.drop(axis=1, columns=\"price_usd_per_m2\")\n",
    "y1 = data.price_usd_per_m2"
   ]
  },
  {
   "cell_type": "markdown",
   "id": "50df81d5-a2ae-4629-93b4-72c8832681d1",
   "metadata": {},
   "source": [
    "Separamos en set de testeo y de entrenamiento."
   ]
  },
  {
   "cell_type": "code",
   "execution_count": 74,
   "id": "93bb5dc5-f775-4fae-b9fd-ecd1e43cb9ec",
   "metadata": {},
   "outputs": [],
   "source": [
    "X_train1, X_test1, y_train1, y_test1 = train_test_split(X1, y1, random_state=4)"
   ]
  },
  {
   "cell_type": "markdown",
   "id": "d2b0240c-b7be-4942-b941-ec0e2a6fb62f",
   "metadata": {},
   "source": [
    "Instanciamos el modelo"
   ]
  },
  {
   "cell_type": "code",
   "execution_count": 75,
   "id": "25775d40-f2d5-4592-a28f-e76b965a7f9d",
   "metadata": {
    "tags": []
   },
   "outputs": [],
   "source": [
    "linereg = linear_model.LinearRegression()"
   ]
  },
  {
   "cell_type": "markdown",
   "id": "3b911f4f-2d14-4fa4-9fee-a67884759f2a",
   "metadata": {},
   "source": [
    "Realizamos el Cross Validation y obtenemos el score promedio, con su desviación estandard."
   ]
  },
  {
   "cell_type": "code",
   "execution_count": 76,
   "id": "06e8b874-2ddc-4984-a4f1-1f115b85ec08",
   "metadata": {},
   "outputs": [
    {
     "name": "stdout",
     "output_type": "stream",
     "text": [
      "R2 mean:  0.6065967121742701\n",
      "R2 STD:  0.015689260547029876\n"
     ]
    }
   ],
   "source": [
    "cv = KFold(n_splits=10, random_state=4, shuffle=True)\n",
    "\n",
    "scores_linereg = cross_val_score(linereg, X_train1, y_train1, cv=cv)\n",
    "\n",
    "mean_linereg = np.mean(scores_linereg)\n",
    "std_linereg = np.std(scores_linereg)\n",
    "print('R2 mean: ', mean_linereg)\n",
    "print('R2 STD: ', std_linereg)"
   ]
  },
  {
   "cell_type": "code",
   "execution_count": 77,
   "id": "56e6c700-e1b4-4c94-888d-1b4d1c7d670c",
   "metadata": {},
   "outputs": [
    {
     "data": {
      "text/plain": [
       "array([0.63783333, 0.60614078, 0.57949178, 0.60404708, 0.59722683,\n",
       "       0.60717614, 0.60667301, 0.59848749, 0.62973127, 0.59915942])"
      ]
     },
     "execution_count": 77,
     "metadata": {},
     "output_type": "execute_result"
    }
   ],
   "source": [
    "scores_linereg"
   ]
  },
  {
   "cell_type": "markdown",
   "id": "8bd4437d-f33c-4d73-9179-98d0a00bbdcb",
   "metadata": {
    "tags": []
   },
   "source": [
    "---\n",
    "# Lasso"
   ]
  },
  {
   "cell_type": "markdown",
   "id": "2c616b99-1e1b-4bff-9592-b2387591e3c0",
   "metadata": {},
   "source": [
    "Para aplicar regularización vamos a normalizar las variables numéricas."
   ]
  },
  {
   "cell_type": "code",
   "execution_count": 78,
   "id": "901595cd-d6b7-45cf-aa3a-cf95fb7e8a37",
   "metadata": {},
   "outputs": [],
   "source": [
    "numericals = [\"lat\",\n",
    "              \"lat2\",\n",
    "              \"lat_lon\",\n",
    "              \"lon\", \n",
    "              \"lon2\",\n",
    "              \"expenses\",\n",
    "              \"rooms\",\n",
    "              \"rooms2\", \n",
    "              \"Cantidad_Baños\",\n",
    "              \"Cantidad_Baños2\",\n",
    "              \"distancias_al_rio\"]\n",
    "\n",
    "X = data[numericals]"
   ]
  },
  {
   "cell_type": "markdown",
   "id": "ac0154f0-baba-4eff-88ba-7b591f17cb8e",
   "metadata": {},
   "source": [
    "Normalizamos las variables numéricas y las renombramos con el sufijo _std"
   ]
  },
  {
   "cell_type": "code",
   "execution_count": 79,
   "id": "708c195a-123d-44ab-bb6d-ec63c34bb8e7",
   "metadata": {
    "tags": []
   },
   "outputs": [
    {
     "data": {
      "text/html": [
       "<div>\n",
       "<style scoped>\n",
       "    .dataframe tbody tr th:only-of-type {\n",
       "        vertical-align: middle;\n",
       "    }\n",
       "\n",
       "    .dataframe tbody tr th {\n",
       "        vertical-align: top;\n",
       "    }\n",
       "\n",
       "    .dataframe thead th {\n",
       "        text-align: right;\n",
       "    }\n",
       "</style>\n",
       "<table border=\"1\" class=\"dataframe\">\n",
       "  <thead>\n",
       "    <tr style=\"text-align: right;\">\n",
       "      <th></th>\n",
       "      <th>lat_std</th>\n",
       "      <th>lat2_std</th>\n",
       "      <th>lat_lon_std</th>\n",
       "      <th>lon_std</th>\n",
       "      <th>lon2_std</th>\n",
       "      <th>expenses_std</th>\n",
       "      <th>rooms_std</th>\n",
       "      <th>rooms2_std</th>\n",
       "      <th>Cantidad_Baños_std</th>\n",
       "      <th>Cantidad_Baños2_std</th>\n",
       "      <th>distancias_al_rio_std</th>\n",
       "    </tr>\n",
       "  </thead>\n",
       "  <tbody>\n",
       "    <tr>\n",
       "      <th>0</th>\n",
       "      <td>0.413922</td>\n",
       "      <td>-0.414864</td>\n",
       "      <td>-0.506949</td>\n",
       "      <td>-0.086352</td>\n",
       "      <td>0.085001</td>\n",
       "      <td>-0.811396</td>\n",
       "      <td>-0.954127</td>\n",
       "      <td>-0.721509</td>\n",
       "      <td>-0.251342</td>\n",
       "      <td>-0.214979</td>\n",
       "      <td>-0.485759</td>\n",
       "    </tr>\n",
       "  </tbody>\n",
       "</table>\n",
       "</div>"
      ],
      "text/plain": [
       "    lat_std  lat2_std  lat_lon_std   lon_std  lon2_std  expenses_std  \\\n",
       "0  0.413922 -0.414864    -0.506949 -0.086352  0.085001     -0.811396   \n",
       "\n",
       "   rooms_std  rooms2_std  Cantidad_Baños_std  Cantidad_Baños2_std  \\\n",
       "0  -0.954127   -0.721509           -0.251342            -0.214979   \n",
       "\n",
       "   distancias_al_rio_std  \n",
       "0              -0.485759  "
      ]
     },
     "execution_count": 79,
     "metadata": {},
     "output_type": "execute_result"
    }
   ],
   "source": [
    "scaler = StandardScaler()\n",
    "scaler.fit(X)\n",
    "\n",
    "std_numerical_data = scaler.transform(X)\n",
    "std_df = pd.DataFrame(std_numerical_data)\n",
    "std_df.columns = [i + '_std' for i in numericals]\n",
    "std_df.head(1)"
   ]
  },
  {
   "cell_type": "markdown",
   "id": "b95bda71-667e-4e01-8aa5-927a4fb9f62c",
   "metadata": {},
   "source": [
    "Separamos las variables dummies"
   ]
  },
  {
   "cell_type": "code",
   "execution_count": 80,
   "id": "98995012-180f-4c82-873a-67ca9fa66d83",
   "metadata": {},
   "outputs": [],
   "source": [
    "not_categoricals = numericals\n",
    "not_categoricals.append(\"price_usd_per_m2\")\n",
    "categoricals_df = data.drop(axis=1, columns=not_categoricals)"
   ]
  },
  {
   "cell_type": "markdown",
   "id": "3f13a2af-915c-4dd6-8f6c-ef60191d7d97",
   "metadata": {},
   "source": [
    "Concatenamos las variables númericas normalizadas con las dummies"
   ]
  },
  {
   "cell_type": "code",
   "execution_count": 81,
   "id": "9e1839cf-fbb5-4ba4-8077-6263e4d68465",
   "metadata": {},
   "outputs": [],
   "source": [
    "X = pd.concat([std_df, categoricals_df], axis = 1)"
   ]
  },
  {
   "cell_type": "markdown",
   "id": "2a59999c-c228-4ac0-8e9a-0419e6c5110e",
   "metadata": {},
   "source": [
    "Usamos la variable objetivo sin normalizar."
   ]
  },
  {
   "cell_type": "code",
   "execution_count": 82,
   "id": "1c4d93c5-ef3d-4db7-9de7-276663e9679d",
   "metadata": {},
   "outputs": [],
   "source": [
    "y = data.price_usd_per_m2"
   ]
  },
  {
   "cell_type": "markdown",
   "id": "7b9fd429-48d2-45a9-8af2-35ef947ea61f",
   "metadata": {},
   "source": [
    "Separamos en test y entrenamiento"
   ]
  },
  {
   "cell_type": "code",
   "execution_count": 83,
   "id": "03bde048-86b7-4dc4-b687-234de753394c",
   "metadata": {},
   "outputs": [],
   "source": [
    "X_train, X_test, y_train, y_test = train_test_split(X, y, random_state=4)"
   ]
  },
  {
   "cell_type": "markdown",
   "id": "b35f1042-ace2-4289-843f-e58ba593937c",
   "metadata": {},
   "source": [
    "Realizamos las Cross Validation para encontrar el coeficiente de corrección alfa ideal."
   ]
  },
  {
   "cell_type": "code",
   "execution_count": 84,
   "id": "e75901a2-b937-4fc7-ae9a-08591cc844f6",
   "metadata": {
    "tags": []
   },
   "outputs": [],
   "source": [
    "lm_lasso = linear_model.LassoCV(alphas=[0.01, 0.02, 0.025, 0.03, 0.035, 0.04, 0.045], cv = 10) \n",
    "\n",
    "model_lasso_cv = lm_lasso.fit(X_train, y_train)"
   ]
  },
  {
   "cell_type": "code",
   "execution_count": 85,
   "id": "bda60564-8704-40a7-b727-204098b995a6",
   "metadata": {},
   "outputs": [
    {
     "name": "stdout",
     "output_type": "stream",
     "text": [
      "Mejor alpha:  0.03\n"
     ]
    }
   ],
   "source": [
    "best_alpha_lasso = model_lasso_cv.alpha_\n",
    "print(\"Mejor alpha: \", best_alpha_lasso)"
   ]
  },
  {
   "cell_type": "markdown",
   "id": "6a73cba5-714f-4d76-9cb8-dbf6293205f6",
   "metadata": {},
   "source": [
    "Instanciamos el modelo Lasso con el mejor alfa obtenido."
   ]
  },
  {
   "cell_type": "code",
   "execution_count": 86,
   "id": "bb067011-4e83-4041-9afc-eb3025b6e52a",
   "metadata": {},
   "outputs": [],
   "source": [
    "model_lasso = linear_model.Lasso(alpha = best_alpha_lasso)"
   ]
  },
  {
   "cell_type": "markdown",
   "id": "2aadb757-65e3-4e68-99ad-04f70bd4dad3",
   "metadata": {},
   "source": [
    "Realizamos Cross Validation y vemos los resultados."
   ]
  },
  {
   "cell_type": "code",
   "execution_count": 87,
   "id": "e973a2c3-3936-4a7c-9a92-2e65f67e93ff",
   "metadata": {},
   "outputs": [
    {
     "name": "stdout",
     "output_type": "stream",
     "text": [
      "R2 mean:  0.6072368953188692\n",
      "R2 STD:  0.015329613953216394\n"
     ]
    }
   ],
   "source": [
    "scores_lasso = cross_val_score(model_lasso, X_train, y_train, cv=cv)\n",
    "\n",
    "mean_lasso = np.mean(scores_lasso)\n",
    "std_lasso = np.std(scores_lasso)\n",
    "print('R2 mean: ', mean_lasso)\n",
    "print('R2 STD: ', std_lasso)"
   ]
  },
  {
   "cell_type": "code",
   "execution_count": 88,
   "id": "ceddc65b-e84a-4fb5-be73-e80bcc11e605",
   "metadata": {
    "tags": []
   },
   "outputs": [
    {
     "data": {
      "text/plain": [
       "array([0.63858064, 0.60743547, 0.58244119, 0.60424937, 0.60290093,\n",
       "       0.60703767, 0.60415231, 0.59474452, 0.63000148, 0.60082537])"
      ]
     },
     "execution_count": 88,
     "metadata": {},
     "output_type": "execute_result"
    }
   ],
   "source": [
    "scores_lasso"
   ]
  },
  {
   "cell_type": "markdown",
   "id": "99b39684-e75e-4685-9e62-98dbcfb2fe88",
   "metadata": {},
   "source": [
    "---\n",
    "# Ridge"
   ]
  },
  {
   "cell_type": "code",
   "execution_count": 89,
   "id": "11592283-0d0b-4bb7-92c0-997a886b2f87",
   "metadata": {},
   "outputs": [],
   "source": [
    "lm_ridge = linear_model.RidgeCV(alphas=[0.5, 0.75, 1, 1.25, 1.5, 1.8, 2], cv = 10) \n",
    "\n",
    "model_ridge_cv = lm_ridge.fit(X_train, y_train)"
   ]
  },
  {
   "cell_type": "code",
   "execution_count": 90,
   "id": "31a711b9-dc97-4f83-aab6-ffda4fa895e2",
   "metadata": {
    "tags": []
   },
   "outputs": [
    {
     "name": "stdout",
     "output_type": "stream",
     "text": [
      "Mejor alpha:  1.25\n"
     ]
    }
   ],
   "source": [
    "best_alpha_ridge = model_ridge_cv.alpha_\n",
    "print(\"Mejor alpha: \", best_alpha_ridge)"
   ]
  },
  {
   "cell_type": "markdown",
   "id": "351a8cbf-fa7f-4e0f-a099-c69dd0408201",
   "metadata": {},
   "source": [
    "Instanciamos el modelo Ridge con el mejor alfa obtenido."
   ]
  },
  {
   "cell_type": "code",
   "execution_count": 91,
   "id": "f1aee460-88fe-460a-ac9e-2ca0615263fa",
   "metadata": {},
   "outputs": [],
   "source": [
    "model_ridge = linear_model.Ridge(alpha = best_alpha_ridge)"
   ]
  },
  {
   "cell_type": "markdown",
   "id": "6e1f290c-cead-4a28-a3dc-addbee4412d7",
   "metadata": {},
   "source": [
    "Realizamos Cross Validation y vemos los resultados."
   ]
  },
  {
   "cell_type": "code",
   "execution_count": 92,
   "id": "f08dea17-2d49-4bd8-9e8d-a5047ac0ab63",
   "metadata": {},
   "outputs": [
    {
     "name": "stdout",
     "output_type": "stream",
     "text": [
      "R2 mean:  0.6077333543184134\n",
      "R2 STD:  0.015523129428498955\n"
     ]
    }
   ],
   "source": [
    "scores_ridge = cross_val_score(model_ridge, X_train, y_train, cv=cv)\n",
    "\n",
    "mean_ridge = np.mean(scores_ridge)\n",
    "std_ridge = np.std(scores_ridge)\n",
    "print('R2 mean: ', mean_ridge)\n",
    "print('R2 STD: ', std_ridge)"
   ]
  },
  {
   "cell_type": "code",
   "execution_count": 93,
   "id": "bbd2ae03-f493-41d6-90ea-3a50f0dff416",
   "metadata": {
    "tags": []
   },
   "outputs": [
    {
     "data": {
      "text/plain": [
       "array([0.64006934, 0.60633363, 0.58324822, 0.60443387, 0.60293371,\n",
       "       0.60728254, 0.60472896, 0.59622994, 0.63102345, 0.60104988])"
      ]
     },
     "execution_count": 93,
     "metadata": {},
     "output_type": "execute_result"
    }
   ],
   "source": [
    "scores_ridge"
   ]
  },
  {
   "cell_type": "markdown",
   "id": "aae11f1a-440d-4a77-9ffd-810d68a97467",
   "metadata": {},
   "source": [
    "---\n",
    "## Elastic Net"
   ]
  },
  {
   "cell_type": "markdown",
   "id": "2d17aee6-ae81-4d7c-ab0f-a9b4794e7872",
   "metadata": {},
   "source": [
    "Experimentamos un poco con el parámetro L1 de Elastic Net, probamos con valores entre 0.1 y 0.9"
   ]
  },
  {
   "cell_type": "code",
   "execution_count": 94,
   "id": "e03680ea-5d6d-48cf-bcc8-22ff17ee5bc7",
   "metadata": {},
   "outputs": [
    {
     "data": {
      "text/plain": [
       "array([0.1, 0.2, 0.3, 0.4, 0.5, 0.6, 0.7, 0.8, 0.9])"
      ]
     },
     "execution_count": 94,
     "metadata": {},
     "output_type": "execute_result"
    }
   ],
   "source": [
    "l1_r = np.linspace(0.1, 1, 9,endpoint=False)\n",
    "l1_r"
   ]
  },
  {
   "cell_type": "code",
   "execution_count": 95,
   "id": "f42a2e95-d1f4-409a-88a0-fd525ddb33ad",
   "metadata": {},
   "outputs": [],
   "source": [
    "l1_alphas=[]"
   ]
  },
  {
   "cell_type": "code",
   "execution_count": 96,
   "id": "6580c941-d415-4649-a38f-057689fad723",
   "metadata": {},
   "outputs": [],
   "source": [
    "for l1 in l1_r:\n",
    "    lm_elastic_net = linear_model.ElasticNetCV(alphas = [0.00001, 0.00005, 0.000075, 0.0001, 0.000125, 0.0005, 0.001], cv = 10, l1_ratio=l1)\n",
    "    model_elastic_net = lm_elastic_net.fit(X_train, y_train)\n",
    "    l1_alphas.append(model_elastic_net.alpha_)"
   ]
  },
  {
   "cell_type": "code",
   "execution_count": 97,
   "id": "c048fcc8-3eb9-4e9f-be6e-bc150707f94c",
   "metadata": {},
   "outputs": [
    {
     "data": {
      "text/plain": [
       "[0.0001,\n",
       " 0.000125,\n",
       " 0.000125,\n",
       " 0.000125,\n",
       " 0.000125,\n",
       " 0.000125,\n",
       " 0.0005,\n",
       " 0.0005,\n",
       " 0.001]"
      ]
     },
     "execution_count": 97,
     "metadata": {},
     "output_type": "execute_result"
    }
   ],
   "source": [
    "l1_alphas"
   ]
  },
  {
   "cell_type": "markdown",
   "id": "a9b77827-7670-4eb0-86eb-01107816c6f3",
   "metadata": {},
   "source": [
    "Usamos el menor valor de alpha obtenido en la lista."
   ]
  },
  {
   "cell_type": "code",
   "execution_count": 98,
   "id": "0a5fb660-8caf-4bed-813e-e40fa2d7652e",
   "metadata": {},
   "outputs": [
    {
     "name": "stdout",
     "output_type": "stream",
     "text": [
      "Mejor alpha:  0.0001\n"
     ]
    }
   ],
   "source": [
    "best_alpha_elastic_net = np.min(l1_alphas)\n",
    "print(\"Mejor alpha: \", best_alpha_elastic_net)"
   ]
  },
  {
   "cell_type": "markdown",
   "id": "c0fc5d57-8d9b-46b7-b954-de8abffbc049",
   "metadata": {},
   "source": [
    "Instanciamos el modelo Elastic Net con el mejor alfa obtenido."
   ]
  },
  {
   "cell_type": "code",
   "execution_count": 99,
   "id": "f7a0c46a-9632-4d19-86a6-7d3d940c8591",
   "metadata": {},
   "outputs": [],
   "source": [
    "model_elastic_net = linear_model.ElasticNet(alpha = best_alpha_elastic_net)"
   ]
  },
  {
   "cell_type": "markdown",
   "id": "52ac1d90-c331-489f-a4fd-17bb63f82c37",
   "metadata": {},
   "source": [
    "Realizamos Cross Validation y vemos los resultados."
   ]
  },
  {
   "cell_type": "code",
   "execution_count": 100,
   "id": "2b58d642-84f0-41ab-9376-444c7feda5e7",
   "metadata": {},
   "outputs": [
    {
     "name": "stdout",
     "output_type": "stream",
     "text": [
      "R2 mean:  0.6076317216732505\n",
      "R2 STD:  0.015630334559780867\n"
     ]
    }
   ],
   "source": [
    "scores_elastic_net = cross_val_score(model_elastic_net, X_train, y_train, cv=cv)\n",
    "\n",
    "mean_elastic_net = np.mean(scores_elastic_net)\n",
    "std_elastic_net = np.std(scores_elastic_net)\n",
    "print('R2 mean: ', mean_elastic_net)\n",
    "print('R2 STD: ', std_elastic_net)"
   ]
  },
  {
   "cell_type": "code",
   "execution_count": 101,
   "id": "92f88fe7-3f22-46c5-8a4f-405c92335f69",
   "metadata": {
    "tags": []
   },
   "outputs": [
    {
     "data": {
      "text/plain": [
       "array([0.64012743, 0.60679202, 0.58229304, 0.60445116, 0.60226811,\n",
       "       0.60773541, 0.6049683 , 0.59650998, 0.63055467, 0.6006171 ])"
      ]
     },
     "execution_count": 101,
     "metadata": {},
     "output_type": "execute_result"
    }
   ],
   "source": [
    "scores_elastic_net"
   ]
  },
  {
   "cell_type": "markdown",
   "id": "aadc33d4-ccfe-44eb-ba80-889cbb34a3fc",
   "metadata": {},
   "source": [
    "#### Creamos una tabla para comparar los resultados de los R2 promedios de todos los métodos utilizados, para ver cual aplicamos."
   ]
  },
  {
   "cell_type": "code",
   "execution_count": 102,
   "id": "c9e16098-2586-4e70-be1c-e495c3289e8f",
   "metadata": {},
   "outputs": [
    {
     "data": {
      "text/html": [
       "<div>\n",
       "<style scoped>\n",
       "    .dataframe tbody tr th:only-of-type {\n",
       "        vertical-align: middle;\n",
       "    }\n",
       "\n",
       "    .dataframe tbody tr th {\n",
       "        vertical-align: top;\n",
       "    }\n",
       "\n",
       "    .dataframe thead th {\n",
       "        text-align: right;\n",
       "    }\n",
       "</style>\n",
       "<table border=\"1\" class=\"dataframe\">\n",
       "  <thead>\n",
       "    <tr style=\"text-align: right;\">\n",
       "      <th></th>\n",
       "      <th>modelo</th>\n",
       "      <th>score_mean</th>\n",
       "    </tr>\n",
       "  </thead>\n",
       "  <tbody>\n",
       "    <tr>\n",
       "      <th>0</th>\n",
       "      <td>linereg</td>\n",
       "      <td>0.606597</td>\n",
       "    </tr>\n",
       "    <tr>\n",
       "      <th>1</th>\n",
       "      <td>lasso</td>\n",
       "      <td>0.607237</td>\n",
       "    </tr>\n",
       "    <tr>\n",
       "      <th>2</th>\n",
       "      <td>ridge</td>\n",
       "      <td>0.607733</td>\n",
       "    </tr>\n",
       "    <tr>\n",
       "      <th>3</th>\n",
       "      <td>elastic_net</td>\n",
       "      <td>0.607632</td>\n",
       "    </tr>\n",
       "  </tbody>\n",
       "</table>\n",
       "</div>"
      ],
      "text/plain": [
       "        modelo  score_mean\n",
       "0      linereg    0.606597\n",
       "1        lasso    0.607237\n",
       "2        ridge    0.607733\n",
       "3  elastic_net    0.607632"
      ]
     },
     "execution_count": 102,
     "metadata": {},
     "output_type": "execute_result"
    },
    {
     "data": {
      "image/png": "[encoded data removed]",
      "text/plain": [
       "<Figure size 504x288 with 1 Axes>"
      ]
     },
     "metadata": {
      "needs_background": "light"
     },
     "output_type": "display_data"
    }
   ],
   "source": [
    "scores_means = pd.DataFrame()\n",
    "scores_means['modelo'] = ['linereg', 'lasso', 'ridge', 'elastic_net']\n",
    "scores_means['score_mean'] = [mean_linereg, mean_lasso, mean_ridge, mean_elastic_net]\n",
    "\n",
    "fig, ax = plt.subplots(figsize=(7, 4))\n",
    "scores_means.set_index('modelo').plot(kind='barh', ax=ax)\n",
    "ax.set_ylabel('modelo')\n",
    "ax.set_title('Comparación de modelos');\n",
    "scores_means"
   ]
  },
  {
   "cell_type": "markdown",
   "id": "234036e5-18bd-42cb-abce-feab406ce728",
   "metadata": {},
   "source": [
    "# Testeo\n",
    "Realizamos la predicción con el modelo ridge, que por muy poco fue el que mejor resultado nos dio."
   ]
  },
  {
   "cell_type": "code",
   "execution_count": 103,
   "id": "b3a68a1f-4491-4043-8f7b-2a125624377d",
   "metadata": {},
   "outputs": [
    {
     "name": "stdout",
     "output_type": "stream",
     "text": [
      "Score promedio con set de entrenamiento aplicando Ridge:\n",
      " 0.6077333543184134\n",
      "Score con set de testeo aplicando Ridge:\n",
      " 0.6018219101510598\n"
     ]
    }
   ],
   "source": [
    "model_fit_ridge = model_ridge.fit(X_train, y_train)\n",
    "mean_test_ridge = model_fit_ridge.score(X_test, y_test)\n",
    "print(\"Score promedio con set de entrenamiento aplicando Ridge:\\n\", mean_ridge)\n",
    "print(\"Score con set de testeo aplicando Ridge:\\n\", mean_test_ridge)"
   ]
  },
  {
   "cell_type": "markdown",
   "id": "45bedfd9-0787-40be-94a0-a22367b0345f",
   "metadata": {},
   "source": [
    "Comparando los resultados vemos que son muy parecidos, por lo que podemos concluir que tenemos un modelo bastante robusto."
   ]
  },
  {
   "cell_type": "markdown",
   "id": "3c5d9359-6fe7-4e52-b338-82c5d00e9b40",
   "metadata": {},
   "source": [
    "# Conclusión\n",
    "\n",
    "Podemos observar que todos los modelos obtuvieron un valor similar de R2, Ridge fue mejor, pero no de forma significativa (podemos ver que los valores de alfa en Elastic Net también mejoraban cuando la proporción de L1 (Lasso) era menor, osea que obtenía mejores resultados usando L2 (Ridge)).\n",
    "\n",
    "De esto concluimos que los datos que le pasamos al modelo, fueron de utilidad a la hora de predecir, ya que las técnicas de regularización no marcaron una diferencia muy grande.\n",
    "\n",
    "Estimamos que en el negocio inmoviliario, es muy difícil lograr una buena predicción sin un profeesional que observe la propiedad, ya que hay muchas muchas variables que pueden influir en el precio de la misma, que no tenemos en cuenta en el data set, como pueden ser: \n",
    "- Ruidos molestos, olores desagradables, calidad de vecinos que puede afectar la seguridad y otros factores que tal vez sean mas temporales y puntuales.\n",
    "- Calidad constructiva, ya que por mas bien ubicada que esté la propiedad, no será lo mismo una nueva que una a demoler, si tiene techo de chapa o de tejas, el grosor de las paredes, las aberturas, la calidad de los apliques, griferías, instalaciones, etc.\n",
    "- Puede presentar graves problemas de cimientos, inundaciones, servicios, etc."
   ]
  }
 ],
 "metadata": {
  "kernelspec": {
   "display_name": "Python 3 (ipykernel)",
   "language": "python",
   "name": "python3"
  },
  "language_info": {
   "codemirror_mode": {
    "name": "ipython",
    "version": 3
   },
   "file_extension": ".py",
   "mimetype": "text/x-python",
   "name": "python",
   "nbconvert_exporter": "python",
   "pygments_lexer": "ipython3",
   "version": "3.8.12"
  }
 },
 "nbformat": 4,
 "nbformat_minor": 5
}
